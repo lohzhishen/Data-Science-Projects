{
  "nbformat": 4,
  "nbformat_minor": 0,
  "metadata": {
    "colab": {
      "provenance": [],
      "collapsed_sections": [],
      "toc_visible": true
    },
    "kernelspec": {
      "name": "python3",
      "display_name": "Python 3"
    },
    "language_info": {
      "name": "python"
    }
  },
  "cells": [
    {
      "cell_type": "markdown",
      "source": [
        "# **Diet Effectiveness Analysis**\n",
        "\n",
        "By: Loh Zhi Shen\n",
        "\n",
        "Last updated: 28 September 2022\n",
        "\n",
        "---\n"
      ],
      "metadata": {
        "id": "u7zBp3WKgVZD"
      }
    },
    {
      "cell_type": "markdown",
      "source": [
        "**Summary**\n",
        "\n",
        "* Analysed data collected to determine which diet was the most effective using analysis of variance techniques."
      ],
      "metadata": {
        "id": "-rZf0mjngiTA"
      }
    },
    {
      "cell_type": "markdown",
      "source": [
        "**Table of Contents:**\n",
        "\n",
        "1. Imports\n",
        "2. Introduction to the dataset and the problem\n",
        "3. One Way Analysis of Variance\n",
        "4. Two Way Analysis of Variance\n",
        "5. One Way Analysis of Covariance\n",
        "6. Two Way Analysis of Covariance\n",
        "\n"
      ],
      "metadata": {
        "id": "8X6H8_EwhMb_"
      }
    },
    {
      "cell_type": "markdown",
      "source": [
        "## **Imports**"
      ],
      "metadata": {
        "id": "HT05-FqQhrKS"
      }
    },
    {
      "cell_type": "code",
      "execution_count": 63,
      "metadata": {
        "id": "NwoVAQTuGhXY"
      },
      "outputs": [],
      "source": [
        "# Data processing\n",
        "import numpy as np\n",
        "import pandas as pd\n",
        "\n",
        "# Data visualization\n",
        "import matplotlib.pyplot as plt\n",
        "import seaborn as sns\n",
        "\n",
        "# Statistical methods\n",
        "from statsmodels.graphics.api import interaction_plot, abline_plot\n",
        "from statsmodels.formula.api import ols\n",
        "from statsmodels.stats.anova import anova_lm\n",
        "from sklearn.linear_model import LinearRegression"
      ]
    },
    {
      "cell_type": "markdown",
      "source": [
        "## **Introduction to the dataset and the problem**\n",
        "\n",
        "***3 Diet Comparison Dataset*** \n",
        "\n",
        "The dataset consists of the gender, age, height, weight before and weight after and the diet type used of 90 individuals.\n",
        "\n",
        "Link to dataset: https://www.kaggle.com/datasets/alexandercox1234/3-diet-comparison\n",
        "\n",
        "**Problem**\n",
        "\n",
        "Recently, I have been reading more into the mathematics of linear regression models. During my readings, I discovered the analysis of variance technique to check for model adequacy using the F-test. As such, this notebook serves as practice in applying the theoretical knowledge onto an actual dataset.\n",
        "\n",
        "Therefore, the overall problem tacked within this notebook will be: \n",
        "\n",
        "1. Are the different diets the same in terms of effectiveness?\n",
        "2. If they are not all the same, which diets are significantly different from one another?\n",
        "3. And, what affects the outcome of the diet?"
      ],
      "metadata": {
        "id": "JcXPK9X4hw9_"
      }
    },
    {
      "cell_type": "code",
      "source": [
        "# reading in the data\n",
        "raw = pd.read_csv('Diet_R.csv')\n",
        "raw.head()"
      ],
      "metadata": {
        "colab": {
          "base_uri": "https://localhost:8080/",
          "height": 206
        },
        "id": "J8rv-jq_HQWI",
        "outputId": "bfdf26f4-2d83-4c2a-8f22-997197cf8688"
      },
      "execution_count": 2,
      "outputs": [
        {
          "output_type": "execute_result",
          "data": {
            "text/plain": [
              "   Person  gender  Age  Height  pre.weight  Diet  weight6weeks\n",
              "0       1       0   22     159          58     1          54.2\n",
              "1       2       0   46     192          60     1          54.0\n",
              "2       3       0   55     170          64     1          63.3\n",
              "3       4       0   33     171          64     1          61.1\n",
              "4       5       0   50     170          65     1          62.2"
            ],
            "text/html": [
              "\n",
              "  <div id=\"df-9a80f7cb-4179-4f5c-8b11-b3c5817f28fd\">\n",
              "    <div class=\"colab-df-container\">\n",
              "      <div>\n",
              "<style scoped>\n",
              "    .dataframe tbody tr th:only-of-type {\n",
              "        vertical-align: middle;\n",
              "    }\n",
              "\n",
              "    .dataframe tbody tr th {\n",
              "        vertical-align: top;\n",
              "    }\n",
              "\n",
              "    .dataframe thead th {\n",
              "        text-align: right;\n",
              "    }\n",
              "</style>\n",
              "<table border=\"1\" class=\"dataframe\">\n",
              "  <thead>\n",
              "    <tr style=\"text-align: right;\">\n",
              "      <th></th>\n",
              "      <th>Person</th>\n",
              "      <th>gender</th>\n",
              "      <th>Age</th>\n",
              "      <th>Height</th>\n",
              "      <th>pre.weight</th>\n",
              "      <th>Diet</th>\n",
              "      <th>weight6weeks</th>\n",
              "    </tr>\n",
              "  </thead>\n",
              "  <tbody>\n",
              "    <tr>\n",
              "      <th>0</th>\n",
              "      <td>1</td>\n",
              "      <td>0</td>\n",
              "      <td>22</td>\n",
              "      <td>159</td>\n",
              "      <td>58</td>\n",
              "      <td>1</td>\n",
              "      <td>54.2</td>\n",
              "    </tr>\n",
              "    <tr>\n",
              "      <th>1</th>\n",
              "      <td>2</td>\n",
              "      <td>0</td>\n",
              "      <td>46</td>\n",
              "      <td>192</td>\n",
              "      <td>60</td>\n",
              "      <td>1</td>\n",
              "      <td>54.0</td>\n",
              "    </tr>\n",
              "    <tr>\n",
              "      <th>2</th>\n",
              "      <td>3</td>\n",
              "      <td>0</td>\n",
              "      <td>55</td>\n",
              "      <td>170</td>\n",
              "      <td>64</td>\n",
              "      <td>1</td>\n",
              "      <td>63.3</td>\n",
              "    </tr>\n",
              "    <tr>\n",
              "      <th>3</th>\n",
              "      <td>4</td>\n",
              "      <td>0</td>\n",
              "      <td>33</td>\n",
              "      <td>171</td>\n",
              "      <td>64</td>\n",
              "      <td>1</td>\n",
              "      <td>61.1</td>\n",
              "    </tr>\n",
              "    <tr>\n",
              "      <th>4</th>\n",
              "      <td>5</td>\n",
              "      <td>0</td>\n",
              "      <td>50</td>\n",
              "      <td>170</td>\n",
              "      <td>65</td>\n",
              "      <td>1</td>\n",
              "      <td>62.2</td>\n",
              "    </tr>\n",
              "  </tbody>\n",
              "</table>\n",
              "</div>\n",
              "      <button class=\"colab-df-convert\" onclick=\"convertToInteractive('df-9a80f7cb-4179-4f5c-8b11-b3c5817f28fd')\"\n",
              "              title=\"Convert this dataframe to an interactive table.\"\n",
              "              style=\"display:none;\">\n",
              "        \n",
              "  <svg xmlns=\"http://www.w3.org/2000/svg\" height=\"24px\"viewBox=\"0 0 24 24\"\n",
              "       width=\"24px\">\n",
              "    <path d=\"M0 0h24v24H0V0z\" fill=\"none\"/>\n",
              "    <path d=\"M18.56 5.44l.94 2.06.94-2.06 2.06-.94-2.06-.94-.94-2.06-.94 2.06-2.06.94zm-11 1L8.5 8.5l.94-2.06 2.06-.94-2.06-.94L8.5 2.5l-.94 2.06-2.06.94zm10 10l.94 2.06.94-2.06 2.06-.94-2.06-.94-.94-2.06-.94 2.06-2.06.94z\"/><path d=\"M17.41 7.96l-1.37-1.37c-.4-.4-.92-.59-1.43-.59-.52 0-1.04.2-1.43.59L10.3 9.45l-7.72 7.72c-.78.78-.78 2.05 0 2.83L4 21.41c.39.39.9.59 1.41.59.51 0 1.02-.2 1.41-.59l7.78-7.78 2.81-2.81c.8-.78.8-2.07 0-2.86zM5.41 20L4 18.59l7.72-7.72 1.47 1.35L5.41 20z\"/>\n",
              "  </svg>\n",
              "      </button>\n",
              "      \n",
              "  <style>\n",
              "    .colab-df-container {\n",
              "      display:flex;\n",
              "      flex-wrap:wrap;\n",
              "      gap: 12px;\n",
              "    }\n",
              "\n",
              "    .colab-df-convert {\n",
              "      background-color: #E8F0FE;\n",
              "      border: none;\n",
              "      border-radius: 50%;\n",
              "      cursor: pointer;\n",
              "      display: none;\n",
              "      fill: #1967D2;\n",
              "      height: 32px;\n",
              "      padding: 0 0 0 0;\n",
              "      width: 32px;\n",
              "    }\n",
              "\n",
              "    .colab-df-convert:hover {\n",
              "      background-color: #E2EBFA;\n",
              "      box-shadow: 0px 1px 2px rgba(60, 64, 67, 0.3), 0px 1px 3px 1px rgba(60, 64, 67, 0.15);\n",
              "      fill: #174EA6;\n",
              "    }\n",
              "\n",
              "    [theme=dark] .colab-df-convert {\n",
              "      background-color: #3B4455;\n",
              "      fill: #D2E3FC;\n",
              "    }\n",
              "\n",
              "    [theme=dark] .colab-df-convert:hover {\n",
              "      background-color: #434B5C;\n",
              "      box-shadow: 0px 1px 3px 1px rgba(0, 0, 0, 0.15);\n",
              "      filter: drop-shadow(0px 1px 2px rgba(0, 0, 0, 0.3));\n",
              "      fill: #FFFFFF;\n",
              "    }\n",
              "  </style>\n",
              "\n",
              "      <script>\n",
              "        const buttonEl =\n",
              "          document.querySelector('#df-9a80f7cb-4179-4f5c-8b11-b3c5817f28fd button.colab-df-convert');\n",
              "        buttonEl.style.display =\n",
              "          google.colab.kernel.accessAllowed ? 'block' : 'none';\n",
              "\n",
              "        async function convertToInteractive(key) {\n",
              "          const element = document.querySelector('#df-9a80f7cb-4179-4f5c-8b11-b3c5817f28fd');\n",
              "          const dataTable =\n",
              "            await google.colab.kernel.invokeFunction('convertToInteractive',\n",
              "                                                     [key], {});\n",
              "          if (!dataTable) return;\n",
              "\n",
              "          const docLinkHtml = 'Like what you see? Visit the ' +\n",
              "            '<a target=\"_blank\" href=https://colab.research.google.com/notebooks/data_table.ipynb>data table notebook</a>'\n",
              "            + ' to learn more about interactive tables.';\n",
              "          element.innerHTML = '';\n",
              "          dataTable['output_type'] = 'display_data';\n",
              "          await google.colab.output.renderOutput(dataTable, element);\n",
              "          const docLink = document.createElement('div');\n",
              "          docLink.innerHTML = docLinkHtml;\n",
              "          element.appendChild(docLink);\n",
              "        }\n",
              "      </script>\n",
              "    </div>\n",
              "  </div>\n",
              "  "
            ]
          },
          "metadata": {},
          "execution_count": 2
        }
      ]
    },
    {
      "cell_type": "markdown",
      "source": [
        "### **Data Cleaning**\n",
        "\n",
        "The dataset has been cleaned prior to being posted online. As such, we will be simply checking if there are any null values within the dataset."
      ],
      "metadata": {
        "id": "aDnYkGYalqbx"
      }
    },
    {
      "cell_type": "code",
      "source": [
        "# display the dataset information\n",
        "raw.info()"
      ],
      "metadata": {
        "colab": {
          "base_uri": "https://localhost:8080/"
        },
        "id": "nQr3nzu9l8C4",
        "outputId": "4581197b-0f7e-41f3-9962-ab68c6ae84f6"
      },
      "execution_count": 3,
      "outputs": [
        {
          "output_type": "stream",
          "name": "stdout",
          "text": [
            "<class 'pandas.core.frame.DataFrame'>\n",
            "RangeIndex: 90 entries, 0 to 89\n",
            "Data columns (total 7 columns):\n",
            " #   Column        Non-Null Count  Dtype  \n",
            "---  ------        --------------  -----  \n",
            " 0   Person        90 non-null     int64  \n",
            " 1   gender        90 non-null     int64  \n",
            " 2   Age           90 non-null     int64  \n",
            " 3   Height        90 non-null     int64  \n",
            " 4   pre.weight    90 non-null     int64  \n",
            " 5   Diet          90 non-null     int64  \n",
            " 6   weight6weeks  90 non-null     float64\n",
            "dtypes: float64(1), int64(6)\n",
            "memory usage: 5.0 KB\n"
          ]
        }
      ]
    },
    {
      "cell_type": "markdown",
      "source": [
        "Since the number of non-null entries in each column is equal to the number of rows in the dataset, there are no null values which need to be filled in."
      ],
      "metadata": {
        "id": "orucXSvzl7cr"
      }
    },
    {
      "cell_type": "markdown",
      "source": [
        "However, I noticed that the column names are a bit weird so I'll rename the different columns."
      ],
      "metadata": {
        "id": "_MeMDYXtkcPs"
      }
    },
    {
      "cell_type": "code",
      "source": [
        "# renaming columns\n",
        "raw = raw.rename({\n",
        "    'gender': 'Gender',\n",
        "    'pre.weight': 'Weight Before',\n",
        "    'weight6weeks': 'Weight After'\n",
        "}, axis = 1)"
      ],
      "metadata": {
        "id": "Vd6834P8kmbn"
      },
      "execution_count": 17,
      "outputs": []
    },
    {
      "cell_type": "markdown",
      "source": [
        "### **Exploratory Data Analysis**"
      ],
      "metadata": {
        "id": "grVaHY_tmR_K"
      }
    },
    {
      "cell_type": "markdown",
      "source": [
        "**Univariate**"
      ],
      "metadata": {
        "id": "IlnpiPaRjY8N"
      }
    },
    {
      "cell_type": "code",
      "source": [
        "# count plots for categorical variables\n",
        "fig, axes = plt.subplots(1, 2, figsize = (10, 5))\n",
        "sns.countplot(data = raw, x = 'Diet', ax = axes[0])\n",
        "sns.countplot(data = raw, x = 'Gender', ax = axes[1])"
      ],
      "metadata": {
        "id": "WGL1a8UrmRZM",
        "colab": {
          "base_uri": "https://localhost:8080/",
          "height": 352
        },
        "outputId": "d2e82ce4-9223-4bfb-80f9-2750e064a724"
      },
      "execution_count": 19,
      "outputs": [
        {
          "output_type": "execute_result",
          "data": {
            "text/plain": [
              "<matplotlib.axes._subplots.AxesSubplot at 0x7fc5bea8c550>"
            ]
          },
          "metadata": {},
          "execution_count": 19
        },
        {
          "output_type": "display_data",
          "data": {
            "text/plain": [
              "<Figure size 720x360 with 2 Axes>"
            ],
            "image/png": "[encoded data removed]"
          },
          "metadata": {
            "needs_background": "light"
          }
        }
      ]
    },
    {
      "cell_type": "markdown",
      "source": [
        "It is interesting to see that there is a slight unbalance in the genders in the dataset."
      ],
      "metadata": {
        "id": "eFfUNulWlOaq"
      }
    },
    {
      "cell_type": "code",
      "source": [
        "# boxplots for numeric columns\n",
        "plt.figure(figsize = (10, 5))\n",
        "sns.boxplot(data = raw[['Height', 'Age', 'Weight Before', 'Weight After']])"
      ],
      "metadata": {
        "colab": {
          "base_uri": "https://localhost:8080/",
          "height": 338
        },
        "id": "9OflkYjFlmTR",
        "outputId": "77f4e1fc-f0bb-4348-eb19-a9a961be1f83"
      },
      "execution_count": 24,
      "outputs": [
        {
          "output_type": "execute_result",
          "data": {
            "text/plain": [
              "<matplotlib.axes._subplots.AxesSubplot at 0x7fc5be86cfd0>"
            ]
          },
          "metadata": {},
          "execution_count": 24
        },
        {
          "output_type": "display_data",
          "data": {
            "text/plain": [
              "<Figure size 720x360 with 1 Axes>"
            ],
            "image/png": "[encoded data removed]"
          },
          "metadata": {
            "needs_background": "light"
          }
        }
      ]
    },
    {
      "cell_type": "markdown",
      "source": [
        "It appears that there are some really tall people in the data."
      ],
      "metadata": {
        "id": "_2pj902Rl8QX"
      }
    },
    {
      "cell_type": "code",
      "source": [
        "# checking heights within groups\n",
        "plt.figure(figsize = (8, 5))\n",
        "sns.boxplot(data = raw, y = 'Height', x = 'Diet')"
      ],
      "metadata": {
        "colab": {
          "base_uri": "https://localhost:8080/",
          "height": 352
        },
        "id": "YWv7i6gkmkOe",
        "outputId": "03e948b4-6bed-4bcf-adb1-36ff46fbb3e0"
      },
      "execution_count": 30,
      "outputs": [
        {
          "output_type": "execute_result",
          "data": {
            "text/plain": [
              "<matplotlib.axes._subplots.AxesSubplot at 0x7fc5be42e350>"
            ]
          },
          "metadata": {},
          "execution_count": 30
        },
        {
          "output_type": "display_data",
          "data": {
            "text/plain": [
              "<Figure size 576x360 with 1 Axes>"
            ],
            "image/png": "[encoded data removed]"
          },
          "metadata": {
            "needs_background": "light"
          }
        }
      ]
    },
    {
      "cell_type": "markdown",
      "source": [
        "It appears that these people are mainly grouped in Diet #1 and Diet #2\n",
        "\n",
        "As such, the metric used to measure the effectiveness of the diet will be adjusted for height.\n",
        "\n",
        "$BMI = {Weight} / {Height^2}$"
      ],
      "metadata": {
        "id": "PclhPuaKn18u"
      }
    },
    {
      "cell_type": "code",
      "source": [
        "# checking age within groups\n",
        "plt.figure(figsize = (8, 5))\n",
        "sns.boxplot(data = raw, x = 'Diet', y = 'Age')"
      ],
      "metadata": {
        "colab": {
          "base_uri": "https://localhost:8080/",
          "height": 352
        },
        "id": "jNdcMkdunWaQ",
        "outputId": "e829df1e-02c3-4807-d440-9e2385137857"
      },
      "execution_count": 32,
      "outputs": [
        {
          "output_type": "execute_result",
          "data": {
            "text/plain": [
              "<matplotlib.axes._subplots.AxesSubplot at 0x7fc5bea1c290>"
            ]
          },
          "metadata": {},
          "execution_count": 32
        },
        {
          "output_type": "display_data",
          "data": {
            "text/plain": [
              "<Figure size 576x360 with 1 Axes>"
            ],
            "image/png": "[encoded data removed]"
          },
          "metadata": {
            "needs_background": "light"
          }
        }
      ]
    },
    {
      "cell_type": "markdown",
      "source": [
        "It appears that the ages within each group is pretty balanced."
      ],
      "metadata": {
        "id": "OyHe802boK_5"
      }
    },
    {
      "cell_type": "code",
      "source": [
        "# checking weights within groups\n",
        "fig, axes = plt.subplots(1 , 2, figsize = (10, 5), sharey = True)\n",
        "sns.boxplot(data = raw, x = 'Diet', y = 'Weight Before', ax = axes[0])\n",
        "sns.boxplot(data = raw, x = 'Diet', y = 'Weight After', ax = axes[1])"
      ],
      "metadata": {
        "colab": {
          "base_uri": "https://localhost:8080/",
          "height": 352
        },
        "id": "bRpumMRQnz56",
        "outputId": "5d05b64b-2fb6-46e7-b753-4fa3f586564d"
      },
      "execution_count": 35,
      "outputs": [
        {
          "output_type": "execute_result",
          "data": {
            "text/plain": [
              "<matplotlib.axes._subplots.AxesSubplot at 0x7fc5be141550>"
            ]
          },
          "metadata": {},
          "execution_count": 35
        },
        {
          "output_type": "display_data",
          "data": {
            "text/plain": [
              "<Figure size 720x360 with 2 Axes>"
            ],
            "image/png": "[encoded data removed]"
          },
          "metadata": {
            "needs_background": "light"
          }
        }
      ]
    },
    {
      "cell_type": "code",
      "source": [
        "raw.loc[raw['Weight Before'] < raw['Weight After']]"
      ],
      "metadata": {
        "colab": {
          "base_uri": "https://localhost:8080/",
          "height": 175
        },
        "id": "XntRTDkEou1Q",
        "outputId": "a9455be6-3945-47f3-a4e2-c1f974da486e"
      },
      "execution_count": 36,
      "outputs": [
        {
          "output_type": "execute_result",
          "data": {
            "text/plain": [
              "    Person  Gender  Age  Height  Weight Before  Diet  Weight After\n",
              "14      15       1   39     168             71     1          71.6\n",
              "32      33       0   44     174             58     2          60.1\n",
              "45      46       0   29     169             77     2          77.5\n",
              "55      56       1   39     180             80     2          81.4"
            ],
            "text/html": [
              "\n",
              "  <div id=\"df-b9550285-2962-4e49-8b0d-682bfc11ba20\">\n",
              "    <div class=\"colab-df-container\">\n",
              "      <div>\n",
              "<style scoped>\n",
              "    .dataframe tbody tr th:only-of-type {\n",
              "        vertical-align: middle;\n",
              "    }\n",
              "\n",
              "    .dataframe tbody tr th {\n",
              "        vertical-align: top;\n",
              "    }\n",
              "\n",
              "    .dataframe thead th {\n",
              "        text-align: right;\n",
              "    }\n",
              "</style>\n",
              "<table border=\"1\" class=\"dataframe\">\n",
              "  <thead>\n",
              "    <tr style=\"text-align: right;\">\n",
              "      <th></th>\n",
              "      <th>Person</th>\n",
              "      <th>Gender</th>\n",
              "      <th>Age</th>\n",
              "      <th>Height</th>\n",
              "      <th>Weight Before</th>\n",
              "      <th>Diet</th>\n",
              "      <th>Weight After</th>\n",
              "    </tr>\n",
              "  </thead>\n",
              "  <tbody>\n",
              "    <tr>\n",
              "      <th>14</th>\n",
              "      <td>15</td>\n",
              "      <td>1</td>\n",
              "      <td>39</td>\n",
              "      <td>168</td>\n",
              "      <td>71</td>\n",
              "      <td>1</td>\n",
              "      <td>71.6</td>\n",
              "    </tr>\n",
              "    <tr>\n",
              "      <th>32</th>\n",
              "      <td>33</td>\n",
              "      <td>0</td>\n",
              "      <td>44</td>\n",
              "      <td>174</td>\n",
              "      <td>58</td>\n",
              "      <td>2</td>\n",
              "      <td>60.1</td>\n",
              "    </tr>\n",
              "    <tr>\n",
              "      <th>45</th>\n",
              "      <td>46</td>\n",
              "      <td>0</td>\n",
              "      <td>29</td>\n",
              "      <td>169</td>\n",
              "      <td>77</td>\n",
              "      <td>2</td>\n",
              "      <td>77.5</td>\n",
              "    </tr>\n",
              "    <tr>\n",
              "      <th>55</th>\n",
              "      <td>56</td>\n",
              "      <td>1</td>\n",
              "      <td>39</td>\n",
              "      <td>180</td>\n",
              "      <td>80</td>\n",
              "      <td>2</td>\n",
              "      <td>81.4</td>\n",
              "    </tr>\n",
              "  </tbody>\n",
              "</table>\n",
              "</div>\n",
              "      <button class=\"colab-df-convert\" onclick=\"convertToInteractive('df-b9550285-2962-4e49-8b0d-682bfc11ba20')\"\n",
              "              title=\"Convert this dataframe to an interactive table.\"\n",
              "              style=\"display:none;\">\n",
              "        \n",
              "  <svg xmlns=\"http://www.w3.org/2000/svg\" height=\"24px\"viewBox=\"0 0 24 24\"\n",
              "       width=\"24px\">\n",
              "    <path d=\"M0 0h24v24H0V0z\" fill=\"none\"/>\n",
              "    <path d=\"M18.56 5.44l.94 2.06.94-2.06 2.06-.94-2.06-.94-.94-2.06-.94 2.06-2.06.94zm-11 1L8.5 8.5l.94-2.06 2.06-.94-2.06-.94L8.5 2.5l-.94 2.06-2.06.94zm10 10l.94 2.06.94-2.06 2.06-.94-2.06-.94-.94-2.06-.94 2.06-2.06.94z\"/><path d=\"M17.41 7.96l-1.37-1.37c-.4-.4-.92-.59-1.43-.59-.52 0-1.04.2-1.43.59L10.3 9.45l-7.72 7.72c-.78.78-.78 2.05 0 2.83L4 21.41c.39.39.9.59 1.41.59.51 0 1.02-.2 1.41-.59l7.78-7.78 2.81-2.81c.8-.78.8-2.07 0-2.86zM5.41 20L4 18.59l7.72-7.72 1.47 1.35L5.41 20z\"/>\n",
              "  </svg>\n",
              "      </button>\n",
              "      \n",
              "  <style>\n",
              "    .colab-df-container {\n",
              "      display:flex;\n",
              "      flex-wrap:wrap;\n",
              "      gap: 12px;\n",
              "    }\n",
              "\n",
              "    .colab-df-convert {\n",
              "      background-color: #E8F0FE;\n",
              "      border: none;\n",
              "      border-radius: 50%;\n",
              "      cursor: pointer;\n",
              "      display: none;\n",
              "      fill: #1967D2;\n",
              "      height: 32px;\n",
              "      padding: 0 0 0 0;\n",
              "      width: 32px;\n",
              "    }\n",
              "\n",
              "    .colab-df-convert:hover {\n",
              "      background-color: #E2EBFA;\n",
              "      box-shadow: 0px 1px 2px rgba(60, 64, 67, 0.3), 0px 1px 3px 1px rgba(60, 64, 67, 0.15);\n",
              "      fill: #174EA6;\n",
              "    }\n",
              "\n",
              "    [theme=dark] .colab-df-convert {\n",
              "      background-color: #3B4455;\n",
              "      fill: #D2E3FC;\n",
              "    }\n",
              "\n",
              "    [theme=dark] .colab-df-convert:hover {\n",
              "      background-color: #434B5C;\n",
              "      box-shadow: 0px 1px 3px 1px rgba(0, 0, 0, 0.15);\n",
              "      filter: drop-shadow(0px 1px 2px rgba(0, 0, 0, 0.3));\n",
              "      fill: #FFFFFF;\n",
              "    }\n",
              "  </style>\n",
              "\n",
              "      <script>\n",
              "        const buttonEl =\n",
              "          document.querySelector('#df-b9550285-2962-4e49-8b0d-682bfc11ba20 button.colab-df-convert');\n",
              "        buttonEl.style.display =\n",
              "          google.colab.kernel.accessAllowed ? 'block' : 'none';\n",
              "\n",
              "        async function convertToInteractive(key) {\n",
              "          const element = document.querySelector('#df-b9550285-2962-4e49-8b0d-682bfc11ba20');\n",
              "          const dataTable =\n",
              "            await google.colab.kernel.invokeFunction('convertToInteractive',\n",
              "                                                     [key], {});\n",
              "          if (!dataTable) return;\n",
              "\n",
              "          const docLinkHtml = 'Like what you see? Visit the ' +\n",
              "            '<a target=\"_blank\" href=https://colab.research.google.com/notebooks/data_table.ipynb>data table notebook</a>'\n",
              "            + ' to learn more about interactive tables.';\n",
              "          element.innerHTML = '';\n",
              "          dataTable['output_type'] = 'display_data';\n",
              "          await google.colab.output.renderOutput(dataTable, element);\n",
              "          const docLink = document.createElement('div');\n",
              "          docLink.innerHTML = docLinkHtml;\n",
              "          element.appendChild(docLink);\n",
              "        }\n",
              "      </script>\n",
              "    </div>\n",
              "  </div>\n",
              "  "
            ]
          },
          "metadata": {},
          "execution_count": 36
        }
      ]
    },
    {
      "cell_type": "markdown",
      "source": [
        "It appears that there are some individuals that gained weight using the diet which is interesting."
      ],
      "metadata": {
        "id": "9_YvvAxUpACW"
      }
    },
    {
      "cell_type": "code",
      "source": [
        "# counts within different groups\n",
        "counts = raw.groupby(['Diet', 'Gender']).count()['Person'].unstack('Diet')\n",
        "plt.figure(figsize = (8, 5))\n",
        "sns.heatmap(data = counts, annot = True)"
      ],
      "metadata": {
        "colab": {
          "base_uri": "https://localhost:8080/",
          "height": 356
        },
        "id": "3tFnefM7pUpD",
        "outputId": "b30db905-1158-4be8-9761-ad33dff56443"
      },
      "execution_count": 40,
      "outputs": [
        {
          "output_type": "execute_result",
          "data": {
            "text/plain": [
              "<matplotlib.axes._subplots.AxesSubplot at 0x7fc5b989c590>"
            ]
          },
          "metadata": {},
          "execution_count": 40
        },
        {
          "output_type": "display_data",
          "data": {
            "text/plain": [
              "<Figure size 576x360 with 2 Axes>"
            ],
            "image/png": "[encoded data removed]"
          },
          "metadata": {
            "needs_background": "light"
          }
        }
      ]
    },
    {
      "cell_type": "markdown",
      "source": [
        "The different diets have approximately the same gender ratio."
      ],
      "metadata": {
        "id": "Sa1paMB-qGAd"
      }
    },
    {
      "cell_type": "markdown",
      "source": [
        "### **Data Transformation**\n",
        "\n",
        "As mentioned above, BMI will be the metric used to compare the diets."
      ],
      "metadata": {
        "id": "jCxbdBKkkh90"
      }
    },
    {
      "cell_type": "code",
      "source": [
        "# transform the data\n",
        "df = raw.copy()\n",
        "df['start_bmi'] = df['Weight Before'] / (df['Height'] / 100) ** 2\n",
        "df['end_bmi'] = df['Weight After'] / (df['Height'] / 100) ** 2\n",
        "df['delta_bmi'] = df['start_bmi'] - df['end_bmi']"
      ],
      "metadata": {
        "id": "3_2DwI6qeRhF"
      },
      "execution_count": 42,
      "outputs": []
    },
    {
      "cell_type": "code",
      "source": [
        "# correlation coefficients\n",
        "plt.figure(figsize = (8, 5))\n",
        "sns.heatmap(data = df.corr(), annot = True, fmt = '.2f', vmin = -1, vmax = 1)"
      ],
      "metadata": {
        "colab": {
          "base_uri": "https://localhost:8080/",
          "height": 402
        },
        "id": "sjj0x81z1G8l",
        "outputId": "baffc1c2-c758-420f-bab1-3280358a37c1"
      },
      "execution_count": 100,
      "outputs": [
        {
          "output_type": "execute_result",
          "data": {
            "text/plain": [
              "<matplotlib.axes._subplots.AxesSubplot at 0x7fc5b5e42150>"
            ]
          },
          "metadata": {},
          "execution_count": 100
        },
        {
          "output_type": "display_data",
          "data": {
            "text/plain": [
              "<Figure size 576x360 with 2 Axes>"
            ],
            "image/png": "[encoded data removed]"
          },
          "metadata": {
            "needs_background": "light"
          }
        }
      ]
    },
    {
      "cell_type": "markdown",
      "source": [
        "## **One Way ANOVA**\n",
        "\n",
        "In this scenario, we will assume that no other data besides the diet type and change is BMI is given.\n",
        "\n",
        "Model: $y_i = µ + τ + e_i$, where $e_i$ ~ $N(0, σ^2)$ \n",
        "\n",
        "$µ$: overall mean response of k samples\n",
        "\n",
        "$τ$: treatment effect i.e. the deviation of the group mean from the overall mean"
      ],
      "metadata": {
        "id": "NsTyHD_bHmuO"
      }
    },
    {
      "cell_type": "code",
      "source": [
        "# data visualization\n",
        "sns.boxplot(data = df, x = 'Diet', y = 'delta_bmi')"
      ],
      "metadata": {
        "colab": {
          "base_uri": "https://localhost:8080/",
          "height": 297
        },
        "id": "z0Nqhi_dNQTN",
        "outputId": "a8f81234-eb88-45e7-ffa1-d88ddaea1bca"
      },
      "execution_count": 47,
      "outputs": [
        {
          "output_type": "execute_result",
          "data": {
            "text/plain": [
              "<matplotlib.axes._subplots.AxesSubplot at 0x7fc5b9948c50>"
            ]
          },
          "metadata": {},
          "execution_count": 47
        },
        {
          "output_type": "display_data",
          "data": {
            "text/plain": [
              "<Figure size 432x288 with 1 Axes>"
            ],
            "image/png": "[encoded data removed]"
          },
          "metadata": {
            "needs_background": "light"
          }
        }
      ]
    },
    {
      "cell_type": "markdown",
      "source": [
        "**F-test:**\n",
        "\n",
        "$H_0: µ_1 = µ_2 = µ_3$\n",
        "\n",
        "$H_1: µ_i ≠ µ_j$ for some $i ≠ j$\n",
        "\n",
        "Significance level: 5%"
      ],
      "metadata": {
        "id": "KE7KB_7xvMW9"
      }
    },
    {
      "cell_type": "code",
      "source": [
        "# Create the ANOVA table\n",
        "table = pd.DataFrame(columns = ['df', 'SS', 'MS', 'F'], index = ['Between groups', 'Within groups', 'Total'])\n",
        "\n",
        "# Input degrees of freedom\n",
        "n = len(df)\n",
        "p = df['Diet'].nunique() - 1\n",
        "table['df'] = [p, n - p - 1, n - 1]\n",
        "\n",
        "# Calculate Sums of Squares\n",
        "grand_mean = df['delta_bmi'].mean()\n",
        "groupby = df.groupby(['Diet'])\n",
        "SST = 0\n",
        "SSE = 0\n",
        "for i, values in groupby:\n",
        "    group_count = len(values)\n",
        "    group_mean = values['delta_bmi'].mean()\n",
        "    SST += group_count * (group_mean - grand_mean) ** 2\n",
        "    SSE += np.sum((values['delta_bmi'] - group_mean) ** 2)\n",
        "Syy = np.sum((df['delta_bmi'] - grand_mean) ** 2)\n",
        "assert Syy == SST + SSE\n",
        "table['SS'] = [SST, SSE, Syy]\n",
        "\n",
        "# Calculate Mean Squared\n",
        "table['MS'] = table['SS'] / table['df']\n",
        "table.loc['Total', 'MS'] = None\n",
        "\n",
        "# Calculate F-statistic\n",
        "table.loc['Between groups', 'F'] = table.loc['Between groups', 'MS'] / table.loc['Within groups', 'MS']\n",
        "\n",
        "table"
      ],
      "metadata": {
        "colab": {
          "base_uri": "https://localhost:8080/",
          "height": 143
        },
        "id": "AfbQIwmqro-8",
        "outputId": "d664bfd5-2876-4292-efb5-4793178ac072"
      },
      "execution_count": 48,
      "outputs": [
        {
          "output_type": "execute_result",
          "data": {
            "text/plain": [
              "                df         SS        MS          F\n",
              "Between groups   2  14.689575  7.344788  11.491246\n",
              "Within groups   87  55.607243  0.639164        NaN\n",
              "Total           89  70.296819       NaN        NaN"
            ],
            "text/html": [
              "\n",
              "  <div id=\"df-f96ebf2f-5569-42ee-8aa6-9063f001d04a\">\n",
              "    <div class=\"colab-df-container\">\n",
              "      <div>\n",
              "<style scoped>\n",
              "    .dataframe tbody tr th:only-of-type {\n",
              "        vertical-align: middle;\n",
              "    }\n",
              "\n",
              "    .dataframe tbody tr th {\n",
              "        vertical-align: top;\n",
              "    }\n",
              "\n",
              "    .dataframe thead th {\n",
              "        text-align: right;\n",
              "    }\n",
              "</style>\n",
              "<table border=\"1\" class=\"dataframe\">\n",
              "  <thead>\n",
              "    <tr style=\"text-align: right;\">\n",
              "      <th></th>\n",
              "      <th>df</th>\n",
              "      <th>SS</th>\n",
              "      <th>MS</th>\n",
              "      <th>F</th>\n",
              "    </tr>\n",
              "  </thead>\n",
              "  <tbody>\n",
              "    <tr>\n",
              "      <th>Between groups</th>\n",
              "      <td>2</td>\n",
              "      <td>14.689575</td>\n",
              "      <td>7.344788</td>\n",
              "      <td>11.491246</td>\n",
              "    </tr>\n",
              "    <tr>\n",
              "      <th>Within groups</th>\n",
              "      <td>87</td>\n",
              "      <td>55.607243</td>\n",
              "      <td>0.639164</td>\n",
              "      <td>NaN</td>\n",
              "    </tr>\n",
              "    <tr>\n",
              "      <th>Total</th>\n",
              "      <td>89</td>\n",
              "      <td>70.296819</td>\n",
              "      <td>NaN</td>\n",
              "      <td>NaN</td>\n",
              "    </tr>\n",
              "  </tbody>\n",
              "</table>\n",
              "</div>\n",
              "      <button class=\"colab-df-convert\" onclick=\"convertToInteractive('df-f96ebf2f-5569-42ee-8aa6-9063f001d04a')\"\n",
              "              title=\"Convert this dataframe to an interactive table.\"\n",
              "              style=\"display:none;\">\n",
              "        \n",
              "  <svg xmlns=\"http://www.w3.org/2000/svg\" height=\"24px\"viewBox=\"0 0 24 24\"\n",
              "       width=\"24px\">\n",
              "    <path d=\"M0 0h24v24H0V0z\" fill=\"none\"/>\n",
              "    <path d=\"M18.56 5.44l.94 2.06.94-2.06 2.06-.94-2.06-.94-.94-2.06-.94 2.06-2.06.94zm-11 1L8.5 8.5l.94-2.06 2.06-.94-2.06-.94L8.5 2.5l-.94 2.06-2.06.94zm10 10l.94 2.06.94-2.06 2.06-.94-2.06-.94-.94-2.06-.94 2.06-2.06.94z\"/><path d=\"M17.41 7.96l-1.37-1.37c-.4-.4-.92-.59-1.43-.59-.52 0-1.04.2-1.43.59L10.3 9.45l-7.72 7.72c-.78.78-.78 2.05 0 2.83L4 21.41c.39.39.9.59 1.41.59.51 0 1.02-.2 1.41-.59l7.78-7.78 2.81-2.81c.8-.78.8-2.07 0-2.86zM5.41 20L4 18.59l7.72-7.72 1.47 1.35L5.41 20z\"/>\n",
              "  </svg>\n",
              "      </button>\n",
              "      \n",
              "  <style>\n",
              "    .colab-df-container {\n",
              "      display:flex;\n",
              "      flex-wrap:wrap;\n",
              "      gap: 12px;\n",
              "    }\n",
              "\n",
              "    .colab-df-convert {\n",
              "      background-color: #E8F0FE;\n",
              "      border: none;\n",
              "      border-radius: 50%;\n",
              "      cursor: pointer;\n",
              "      display: none;\n",
              "      fill: #1967D2;\n",
              "      height: 32px;\n",
              "      padding: 0 0 0 0;\n",
              "      width: 32px;\n",
              "    }\n",
              "\n",
              "    .colab-df-convert:hover {\n",
              "      background-color: #E2EBFA;\n",
              "      box-shadow: 0px 1px 2px rgba(60, 64, 67, 0.3), 0px 1px 3px 1px rgba(60, 64, 67, 0.15);\n",
              "      fill: #174EA6;\n",
              "    }\n",
              "\n",
              "    [theme=dark] .colab-df-convert {\n",
              "      background-color: #3B4455;\n",
              "      fill: #D2E3FC;\n",
              "    }\n",
              "\n",
              "    [theme=dark] .colab-df-convert:hover {\n",
              "      background-color: #434B5C;\n",
              "      box-shadow: 0px 1px 3px 1px rgba(0, 0, 0, 0.15);\n",
              "      filter: drop-shadow(0px 1px 2px rgba(0, 0, 0, 0.3));\n",
              "      fill: #FFFFFF;\n",
              "    }\n",
              "  </style>\n",
              "\n",
              "      <script>\n",
              "        const buttonEl =\n",
              "          document.querySelector('#df-f96ebf2f-5569-42ee-8aa6-9063f001d04a button.colab-df-convert');\n",
              "        buttonEl.style.display =\n",
              "          google.colab.kernel.accessAllowed ? 'block' : 'none';\n",
              "\n",
              "        async function convertToInteractive(key) {\n",
              "          const element = document.querySelector('#df-f96ebf2f-5569-42ee-8aa6-9063f001d04a');\n",
              "          const dataTable =\n",
              "            await google.colab.kernel.invokeFunction('convertToInteractive',\n",
              "                                                     [key], {});\n",
              "          if (!dataTable) return;\n",
              "\n",
              "          const docLinkHtml = 'Like what you see? Visit the ' +\n",
              "            '<a target=\"_blank\" href=https://colab.research.google.com/notebooks/data_table.ipynb>data table notebook</a>'\n",
              "            + ' to learn more about interactive tables.';\n",
              "          element.innerHTML = '';\n",
              "          dataTable['output_type'] = 'display_data';\n",
              "          await google.colab.output.renderOutput(dataTable, element);\n",
              "          const docLink = document.createElement('div');\n",
              "          docLink.innerHTML = docLinkHtml;\n",
              "          element.appendChild(docLink);\n",
              "        }\n",
              "      </script>\n",
              "    </div>\n",
              "  </div>\n",
              "  "
            ]
          },
          "metadata": {},
          "execution_count": 48
        }
      ]
    },
    {
      "cell_type": "markdown",
      "source": [
        "**Using statsmodels module**"
      ],
      "metadata": {
        "id": "RHQcikk8vOj5"
      }
    },
    {
      "cell_type": "code",
      "source": [
        "# fit ols model \n",
        "lm = ols('delta_bmi ~ C(Diet)', data = df).fit()\n",
        "print(lm.summary())"
      ],
      "metadata": {
        "colab": {
          "base_uri": "https://localhost:8080/"
        },
        "id": "VwkelYhhHeQI",
        "outputId": "5a46fc4c-0e96-47df-d5f3-4f20d283061d"
      },
      "execution_count": 49,
      "outputs": [
        {
          "output_type": "stream",
          "name": "stdout",
          "text": [
            "                            OLS Regression Results                            \n",
            "==============================================================================\n",
            "Dep. Variable:              delta_bmi   R-squared:                       0.209\n",
            "Model:                            OLS   Adj. R-squared:                  0.191\n",
            "Method:                 Least Squares   F-statistic:                     11.49\n",
            "Date:                Wed, 28 Sep 2022   Prob (F-statistic):           3.73e-05\n",
            "Time:                        01:19:07   Log-Likelihood:                -106.04\n",
            "No. Observations:                  90   AIC:                             218.1\n",
            "Df Residuals:                      87   BIC:                             225.6\n",
            "Df Model:                           2                                         \n",
            "Covariance Type:            nonrobust                                         \n",
            "================================================================================\n",
            "                   coef    std err          t      P>|t|      [0.025      0.975]\n",
            "--------------------------------------------------------------------------------\n",
            "Intercept        1.1330      0.146      7.762      0.000       0.843       1.423\n",
            "C(Diet)[T.2]    -0.1482      0.206     -0.718      0.475      -0.559       0.262\n",
            "C(Diet)[T.3]     0.7732      0.206      3.746      0.000       0.363       1.184\n",
            "==============================================================================\n",
            "Omnibus:                        0.503   Durbin-Watson:                   1.688\n",
            "Prob(Omnibus):                  0.778   Jarque-Bera (JB):                0.187\n",
            "Skew:                           0.088   Prob(JB):                        0.911\n",
            "Kurtosis:                       3.136   Cond. No.                         3.73\n",
            "==============================================================================\n",
            "\n",
            "Notes:\n",
            "[1] Standard Errors assume that the covariance matrix of the errors is correctly specified.\n"
          ]
        }
      ]
    },
    {
      "cell_type": "code",
      "source": [
        "# ANOVA Table\n",
        "anova_lm(lm)"
      ],
      "metadata": {
        "colab": {
          "base_uri": "https://localhost:8080/",
          "height": 112
        },
        "id": "Q0YwUcEQnn3T",
        "outputId": "ebcb617f-090a-498a-d939-e490a71c9895"
      },
      "execution_count": 50,
      "outputs": [
        {
          "output_type": "execute_result",
          "data": {
            "text/plain": [
              "            df     sum_sq   mean_sq          F    PR(>F)\n",
              "C(Diet)    2.0  14.689575  7.344788  11.491246  0.000037\n",
              "Residual  87.0  55.607243  0.639164        NaN       NaN"
            ],
            "text/html": [
              "\n",
              "  <div id=\"df-1285cd3d-ea1f-412d-a332-b5f298cb19ca\">\n",
              "    <div class=\"colab-df-container\">\n",
              "      <div>\n",
              "<style scoped>\n",
              "    .dataframe tbody tr th:only-of-type {\n",
              "        vertical-align: middle;\n",
              "    }\n",
              "\n",
              "    .dataframe tbody tr th {\n",
              "        vertical-align: top;\n",
              "    }\n",
              "\n",
              "    .dataframe thead th {\n",
              "        text-align: right;\n",
              "    }\n",
              "</style>\n",
              "<table border=\"1\" class=\"dataframe\">\n",
              "  <thead>\n",
              "    <tr style=\"text-align: right;\">\n",
              "      <th></th>\n",
              "      <th>df</th>\n",
              "      <th>sum_sq</th>\n",
              "      <th>mean_sq</th>\n",
              "      <th>F</th>\n",
              "      <th>PR(&gt;F)</th>\n",
              "    </tr>\n",
              "  </thead>\n",
              "  <tbody>\n",
              "    <tr>\n",
              "      <th>C(Diet)</th>\n",
              "      <td>2.0</td>\n",
              "      <td>14.689575</td>\n",
              "      <td>7.344788</td>\n",
              "      <td>11.491246</td>\n",
              "      <td>0.000037</td>\n",
              "    </tr>\n",
              "    <tr>\n",
              "      <th>Residual</th>\n",
              "      <td>87.0</td>\n",
              "      <td>55.607243</td>\n",
              "      <td>0.639164</td>\n",
              "      <td>NaN</td>\n",
              "      <td>NaN</td>\n",
              "    </tr>\n",
              "  </tbody>\n",
              "</table>\n",
              "</div>\n",
              "      <button class=\"colab-df-convert\" onclick=\"convertToInteractive('df-1285cd3d-ea1f-412d-a332-b5f298cb19ca')\"\n",
              "              title=\"Convert this dataframe to an interactive table.\"\n",
              "              style=\"display:none;\">\n",
              "        \n",
              "  <svg xmlns=\"http://www.w3.org/2000/svg\" height=\"24px\"viewBox=\"0 0 24 24\"\n",
              "       width=\"24px\">\n",
              "    <path d=\"M0 0h24v24H0V0z\" fill=\"none\"/>\n",
              "    <path d=\"M18.56 5.44l.94 2.06.94-2.06 2.06-.94-2.06-.94-.94-2.06-.94 2.06-2.06.94zm-11 1L8.5 8.5l.94-2.06 2.06-.94-2.06-.94L8.5 2.5l-.94 2.06-2.06.94zm10 10l.94 2.06.94-2.06 2.06-.94-2.06-.94-.94-2.06-.94 2.06-2.06.94z\"/><path d=\"M17.41 7.96l-1.37-1.37c-.4-.4-.92-.59-1.43-.59-.52 0-1.04.2-1.43.59L10.3 9.45l-7.72 7.72c-.78.78-.78 2.05 0 2.83L4 21.41c.39.39.9.59 1.41.59.51 0 1.02-.2 1.41-.59l7.78-7.78 2.81-2.81c.8-.78.8-2.07 0-2.86zM5.41 20L4 18.59l7.72-7.72 1.47 1.35L5.41 20z\"/>\n",
              "  </svg>\n",
              "      </button>\n",
              "      \n",
              "  <style>\n",
              "    .colab-df-container {\n",
              "      display:flex;\n",
              "      flex-wrap:wrap;\n",
              "      gap: 12px;\n",
              "    }\n",
              "\n",
              "    .colab-df-convert {\n",
              "      background-color: #E8F0FE;\n",
              "      border: none;\n",
              "      border-radius: 50%;\n",
              "      cursor: pointer;\n",
              "      display: none;\n",
              "      fill: #1967D2;\n",
              "      height: 32px;\n",
              "      padding: 0 0 0 0;\n",
              "      width: 32px;\n",
              "    }\n",
              "\n",
              "    .colab-df-convert:hover {\n",
              "      background-color: #E2EBFA;\n",
              "      box-shadow: 0px 1px 2px rgba(60, 64, 67, 0.3), 0px 1px 3px 1px rgba(60, 64, 67, 0.15);\n",
              "      fill: #174EA6;\n",
              "    }\n",
              "\n",
              "    [theme=dark] .colab-df-convert {\n",
              "      background-color: #3B4455;\n",
              "      fill: #D2E3FC;\n",
              "    }\n",
              "\n",
              "    [theme=dark] .colab-df-convert:hover {\n",
              "      background-color: #434B5C;\n",
              "      box-shadow: 0px 1px 3px 1px rgba(0, 0, 0, 0.15);\n",
              "      filter: drop-shadow(0px 1px 2px rgba(0, 0, 0, 0.3));\n",
              "      fill: #FFFFFF;\n",
              "    }\n",
              "  </style>\n",
              "\n",
              "      <script>\n",
              "        const buttonEl =\n",
              "          document.querySelector('#df-1285cd3d-ea1f-412d-a332-b5f298cb19ca button.colab-df-convert');\n",
              "        buttonEl.style.display =\n",
              "          google.colab.kernel.accessAllowed ? 'block' : 'none';\n",
              "\n",
              "        async function convertToInteractive(key) {\n",
              "          const element = document.querySelector('#df-1285cd3d-ea1f-412d-a332-b5f298cb19ca');\n",
              "          const dataTable =\n",
              "            await google.colab.kernel.invokeFunction('convertToInteractive',\n",
              "                                                     [key], {});\n",
              "          if (!dataTable) return;\n",
              "\n",
              "          const docLinkHtml = 'Like what you see? Visit the ' +\n",
              "            '<a target=\"_blank\" href=https://colab.research.google.com/notebooks/data_table.ipynb>data table notebook</a>'\n",
              "            + ' to learn more about interactive tables.';\n",
              "          element.innerHTML = '';\n",
              "          dataTable['output_type'] = 'display_data';\n",
              "          await google.colab.output.renderOutput(dataTable, element);\n",
              "          const docLink = document.createElement('div');\n",
              "          docLink.innerHTML = docLinkHtml;\n",
              "          element.appendChild(docLink);\n",
              "        }\n",
              "      </script>\n",
              "    </div>\n",
              "  </div>\n",
              "  "
            ]
          },
          "metadata": {},
          "execution_count": 50
        }
      ]
    },
    {
      "cell_type": "markdown",
      "source": [
        "**Analysis**\n",
        "\n",
        "***Significance of diet type:***\n",
        "\n",
        "Based on the annova table, it can be seen that $P(F(2,87) > 11.5) = 3.7e-5 < 0.05$. Therefore, the type of diet does affect the change in BMI very significantly."
      ],
      "metadata": {
        "id": "Z1Ow5_CSO9Gj"
      }
    },
    {
      "cell_type": "markdown",
      "source": [
        "**T-test**\n",
        "\n",
        "$H_0: µ_a = µ_b$\n",
        "\n",
        "$H_1: µ_a ≠ µ_b$\n",
        "\n",
        "Significance level: 5%"
      ],
      "metadata": {
        "id": "gY_Z4kW5wjpz"
      }
    },
    {
      "cell_type": "code",
      "source": [
        "# conduct t test\n",
        "table = pd.DataFrame(columns = ['coefficient', 'standard error', 'T'], index = ['2-1', '3-1', '3-2'])\n",
        "\n",
        "df_a = df.loc[df['Diet'] == 1, 'delta_bmi']\n",
        "df_b = df.loc[df['Diet'] == 2, 'delta_bmi']\n",
        "df_c = df.loc[df['Diet'] == 3, 'delta_bmi']\n",
        "\n",
        "n_a = len(df_a)\n",
        "n_b = len(df_b)\n",
        "n_c = len(df_c)\n",
        "\n",
        "pooled_std = np.sqrt(((n_a - 1) * df_a.var() + (n_b - 1) * df_b.var() + (n_c - 1) * df_c.var()) / (n_a + n_b + n_c - 3))\n",
        "\n",
        "table.loc['2-1', 'coefficient'] = df_b.mean() - df_a.mean()\n",
        "table.loc['3-1', 'coefficient'] = df_c.mean() - df_a.mean()\n",
        "table.loc['3-2', 'coefficient'] = df_c.mean() - df_b.mean()\n",
        "\n",
        "table.loc['2-1', 'standard error'] = pooled_std * (1/n_b + 1/n_a) ** 0.5\n",
        "table.loc['3-1', 'standard error'] = pooled_std * (1/n_c + 1/n_b) ** 0.5\n",
        "table.loc['3-2', 'standard error'] = pooled_std * (1/n_c + 1/n_b) ** 0.5\n",
        "\n",
        "table['T'] = table['coefficient'] / table['standard error']\n",
        "\n",
        "table"
      ],
      "metadata": {
        "colab": {
          "base_uri": "https://localhost:8080/",
          "height": 143
        },
        "id": "2LX8oArzvj9u",
        "outputId": "fe9be054-1147-48eb-c2cd-e93dcb246465"
      },
      "execution_count": 51,
      "outputs": [
        {
          "output_type": "execute_result",
          "data": {
            "text/plain": [
              "    coefficient standard error         T\n",
              "2-1   -0.148234       0.206424 -0.718102\n",
              "3-1    0.773231       0.206424  3.745838\n",
              "3-2    0.921465       0.206424   4.46394"
            ],
            "text/html": [
              "\n",
              "  <div id=\"df-f8345971-d5f1-4f3c-aefa-cf76c99c68d8\">\n",
              "    <div class=\"colab-df-container\">\n",
              "      <div>\n",
              "<style scoped>\n",
              "    .dataframe tbody tr th:only-of-type {\n",
              "        vertical-align: middle;\n",
              "    }\n",
              "\n",
              "    .dataframe tbody tr th {\n",
              "        vertical-align: top;\n",
              "    }\n",
              "\n",
              "    .dataframe thead th {\n",
              "        text-align: right;\n",
              "    }\n",
              "</style>\n",
              "<table border=\"1\" class=\"dataframe\">\n",
              "  <thead>\n",
              "    <tr style=\"text-align: right;\">\n",
              "      <th></th>\n",
              "      <th>coefficient</th>\n",
              "      <th>standard error</th>\n",
              "      <th>T</th>\n",
              "    </tr>\n",
              "  </thead>\n",
              "  <tbody>\n",
              "    <tr>\n",
              "      <th>2-1</th>\n",
              "      <td>-0.148234</td>\n",
              "      <td>0.206424</td>\n",
              "      <td>-0.718102</td>\n",
              "    </tr>\n",
              "    <tr>\n",
              "      <th>3-1</th>\n",
              "      <td>0.773231</td>\n",
              "      <td>0.206424</td>\n",
              "      <td>3.745838</td>\n",
              "    </tr>\n",
              "    <tr>\n",
              "      <th>3-2</th>\n",
              "      <td>0.921465</td>\n",
              "      <td>0.206424</td>\n",
              "      <td>4.46394</td>\n",
              "    </tr>\n",
              "  </tbody>\n",
              "</table>\n",
              "</div>\n",
              "      <button class=\"colab-df-convert\" onclick=\"convertToInteractive('df-f8345971-d5f1-4f3c-aefa-cf76c99c68d8')\"\n",
              "              title=\"Convert this dataframe to an interactive table.\"\n",
              "              style=\"display:none;\">\n",
              "        \n",
              "  <svg xmlns=\"http://www.w3.org/2000/svg\" height=\"24px\"viewBox=\"0 0 24 24\"\n",
              "       width=\"24px\">\n",
              "    <path d=\"M0 0h24v24H0V0z\" fill=\"none\"/>\n",
              "    <path d=\"M18.56 5.44l.94 2.06.94-2.06 2.06-.94-2.06-.94-.94-2.06-.94 2.06-2.06.94zm-11 1L8.5 8.5l.94-2.06 2.06-.94-2.06-.94L8.5 2.5l-.94 2.06-2.06.94zm10 10l.94 2.06.94-2.06 2.06-.94-2.06-.94-.94-2.06-.94 2.06-2.06.94z\"/><path d=\"M17.41 7.96l-1.37-1.37c-.4-.4-.92-.59-1.43-.59-.52 0-1.04.2-1.43.59L10.3 9.45l-7.72 7.72c-.78.78-.78 2.05 0 2.83L4 21.41c.39.39.9.59 1.41.59.51 0 1.02-.2 1.41-.59l7.78-7.78 2.81-2.81c.8-.78.8-2.07 0-2.86zM5.41 20L4 18.59l7.72-7.72 1.47 1.35L5.41 20z\"/>\n",
              "  </svg>\n",
              "      </button>\n",
              "      \n",
              "  <style>\n",
              "    .colab-df-container {\n",
              "      display:flex;\n",
              "      flex-wrap:wrap;\n",
              "      gap: 12px;\n",
              "    }\n",
              "\n",
              "    .colab-df-convert {\n",
              "      background-color: #E8F0FE;\n",
              "      border: none;\n",
              "      border-radius: 50%;\n",
              "      cursor: pointer;\n",
              "      display: none;\n",
              "      fill: #1967D2;\n",
              "      height: 32px;\n",
              "      padding: 0 0 0 0;\n",
              "      width: 32px;\n",
              "    }\n",
              "\n",
              "    .colab-df-convert:hover {\n",
              "      background-color: #E2EBFA;\n",
              "      box-shadow: 0px 1px 2px rgba(60, 64, 67, 0.3), 0px 1px 3px 1px rgba(60, 64, 67, 0.15);\n",
              "      fill: #174EA6;\n",
              "    }\n",
              "\n",
              "    [theme=dark] .colab-df-convert {\n",
              "      background-color: #3B4455;\n",
              "      fill: #D2E3FC;\n",
              "    }\n",
              "\n",
              "    [theme=dark] .colab-df-convert:hover {\n",
              "      background-color: #434B5C;\n",
              "      box-shadow: 0px 1px 3px 1px rgba(0, 0, 0, 0.15);\n",
              "      filter: drop-shadow(0px 1px 2px rgba(0, 0, 0, 0.3));\n",
              "      fill: #FFFFFF;\n",
              "    }\n",
              "  </style>\n",
              "\n",
              "      <script>\n",
              "        const buttonEl =\n",
              "          document.querySelector('#df-f8345971-d5f1-4f3c-aefa-cf76c99c68d8 button.colab-df-convert');\n",
              "        buttonEl.style.display =\n",
              "          google.colab.kernel.accessAllowed ? 'block' : 'none';\n",
              "\n",
              "        async function convertToInteractive(key) {\n",
              "          const element = document.querySelector('#df-f8345971-d5f1-4f3c-aefa-cf76c99c68d8');\n",
              "          const dataTable =\n",
              "            await google.colab.kernel.invokeFunction('convertToInteractive',\n",
              "                                                     [key], {});\n",
              "          if (!dataTable) return;\n",
              "\n",
              "          const docLinkHtml = 'Like what you see? Visit the ' +\n",
              "            '<a target=\"_blank\" href=https://colab.research.google.com/notebooks/data_table.ipynb>data table notebook</a>'\n",
              "            + ' to learn more about interactive tables.';\n",
              "          element.innerHTML = '';\n",
              "          dataTable['output_type'] = 'display_data';\n",
              "          await google.colab.output.renderOutput(dataTable, element);\n",
              "          const docLink = document.createElement('div');\n",
              "          docLink.innerHTML = docLinkHtml;\n",
              "          element.appendChild(docLink);\n",
              "        }\n",
              "      </script>\n",
              "    </div>\n",
              "  </div>\n",
              "  "
            ]
          },
          "metadata": {},
          "execution_count": 51
        }
      ]
    },
    {
      "cell_type": "markdown",
      "source": [
        "**Using statsmodels**"
      ],
      "metadata": {
        "id": "-Gj55Cuu7Irj"
      }
    },
    {
      "cell_type": "code",
      "source": [
        "# pair wise t test to test for significant difference\n",
        "lm.t_test_pairwise('C(Diet)').result_frame"
      ],
      "metadata": {
        "colab": {
          "base_uri": "https://localhost:8080/",
          "height": 143
        },
        "id": "PY3c7PegbF3U",
        "outputId": "c77c0a6e-c902-418c-e4f0-cd940c7f412b"
      },
      "execution_count": 52,
      "outputs": [
        {
          "output_type": "execute_result",
          "data": {
            "text/plain": [
              "         coef   std err         t     P>|t|  Conf. Int. Low  Conf. Int. Upp.  \\\n",
              "2-1 -0.148234  0.206424 -0.718102  0.474618       -0.558524         0.262057   \n",
              "3-1  0.773231  0.206424  3.745838  0.000323        0.362941         1.183522   \n",
              "3-2  0.921465  0.206424  4.463940  0.000024        0.511175         1.331755   \n",
              "\n",
              "     pvalue-hs  reject-hs  \n",
              "2-1   0.474618      False  \n",
              "3-1   0.000645       True  \n",
              "3-2   0.000072       True  "
            ],
            "text/html": [
              "\n",
              "  <div id=\"df-05becbb5-e100-4eed-917b-00b584e52c2c\">\n",
              "    <div class=\"colab-df-container\">\n",
              "      <div>\n",
              "<style scoped>\n",
              "    .dataframe tbody tr th:only-of-type {\n",
              "        vertical-align: middle;\n",
              "    }\n",
              "\n",
              "    .dataframe tbody tr th {\n",
              "        vertical-align: top;\n",
              "    }\n",
              "\n",
              "    .dataframe thead th {\n",
              "        text-align: right;\n",
              "    }\n",
              "</style>\n",
              "<table border=\"1\" class=\"dataframe\">\n",
              "  <thead>\n",
              "    <tr style=\"text-align: right;\">\n",
              "      <th></th>\n",
              "      <th>coef</th>\n",
              "      <th>std err</th>\n",
              "      <th>t</th>\n",
              "      <th>P&gt;|t|</th>\n",
              "      <th>Conf. Int. Low</th>\n",
              "      <th>Conf. Int. Upp.</th>\n",
              "      <th>pvalue-hs</th>\n",
              "      <th>reject-hs</th>\n",
              "    </tr>\n",
              "  </thead>\n",
              "  <tbody>\n",
              "    <tr>\n",
              "      <th>2-1</th>\n",
              "      <td>-0.148234</td>\n",
              "      <td>0.206424</td>\n",
              "      <td>-0.718102</td>\n",
              "      <td>0.474618</td>\n",
              "      <td>-0.558524</td>\n",
              "      <td>0.262057</td>\n",
              "      <td>0.474618</td>\n",
              "      <td>False</td>\n",
              "    </tr>\n",
              "    <tr>\n",
              "      <th>3-1</th>\n",
              "      <td>0.773231</td>\n",
              "      <td>0.206424</td>\n",
              "      <td>3.745838</td>\n",
              "      <td>0.000323</td>\n",
              "      <td>0.362941</td>\n",
              "      <td>1.183522</td>\n",
              "      <td>0.000645</td>\n",
              "      <td>True</td>\n",
              "    </tr>\n",
              "    <tr>\n",
              "      <th>3-2</th>\n",
              "      <td>0.921465</td>\n",
              "      <td>0.206424</td>\n",
              "      <td>4.463940</td>\n",
              "      <td>0.000024</td>\n",
              "      <td>0.511175</td>\n",
              "      <td>1.331755</td>\n",
              "      <td>0.000072</td>\n",
              "      <td>True</td>\n",
              "    </tr>\n",
              "  </tbody>\n",
              "</table>\n",
              "</div>\n",
              "      <button class=\"colab-df-convert\" onclick=\"convertToInteractive('df-05becbb5-e100-4eed-917b-00b584e52c2c')\"\n",
              "              title=\"Convert this dataframe to an interactive table.\"\n",
              "              style=\"display:none;\">\n",
              "        \n",
              "  <svg xmlns=\"http://www.w3.org/2000/svg\" height=\"24px\"viewBox=\"0 0 24 24\"\n",
              "       width=\"24px\">\n",
              "    <path d=\"M0 0h24v24H0V0z\" fill=\"none\"/>\n",
              "    <path d=\"M18.56 5.44l.94 2.06.94-2.06 2.06-.94-2.06-.94-.94-2.06-.94 2.06-2.06.94zm-11 1L8.5 8.5l.94-2.06 2.06-.94-2.06-.94L8.5 2.5l-.94 2.06-2.06.94zm10 10l.94 2.06.94-2.06 2.06-.94-2.06-.94-.94-2.06-.94 2.06-2.06.94z\"/><path d=\"M17.41 7.96l-1.37-1.37c-.4-.4-.92-.59-1.43-.59-.52 0-1.04.2-1.43.59L10.3 9.45l-7.72 7.72c-.78.78-.78 2.05 0 2.83L4 21.41c.39.39.9.59 1.41.59.51 0 1.02-.2 1.41-.59l7.78-7.78 2.81-2.81c.8-.78.8-2.07 0-2.86zM5.41 20L4 18.59l7.72-7.72 1.47 1.35L5.41 20z\"/>\n",
              "  </svg>\n",
              "      </button>\n",
              "      \n",
              "  <style>\n",
              "    .colab-df-container {\n",
              "      display:flex;\n",
              "      flex-wrap:wrap;\n",
              "      gap: 12px;\n",
              "    }\n",
              "\n",
              "    .colab-df-convert {\n",
              "      background-color: #E8F0FE;\n",
              "      border: none;\n",
              "      border-radius: 50%;\n",
              "      cursor: pointer;\n",
              "      display: none;\n",
              "      fill: #1967D2;\n",
              "      height: 32px;\n",
              "      padding: 0 0 0 0;\n",
              "      width: 32px;\n",
              "    }\n",
              "\n",
              "    .colab-df-convert:hover {\n",
              "      background-color: #E2EBFA;\n",
              "      box-shadow: 0px 1px 2px rgba(60, 64, 67, 0.3), 0px 1px 3px 1px rgba(60, 64, 67, 0.15);\n",
              "      fill: #174EA6;\n",
              "    }\n",
              "\n",
              "    [theme=dark] .colab-df-convert {\n",
              "      background-color: #3B4455;\n",
              "      fill: #D2E3FC;\n",
              "    }\n",
              "\n",
              "    [theme=dark] .colab-df-convert:hover {\n",
              "      background-color: #434B5C;\n",
              "      box-shadow: 0px 1px 3px 1px rgba(0, 0, 0, 0.15);\n",
              "      filter: drop-shadow(0px 1px 2px rgba(0, 0, 0, 0.3));\n",
              "      fill: #FFFFFF;\n",
              "    }\n",
              "  </style>\n",
              "\n",
              "      <script>\n",
              "        const buttonEl =\n",
              "          document.querySelector('#df-05becbb5-e100-4eed-917b-00b584e52c2c button.colab-df-convert');\n",
              "        buttonEl.style.display =\n",
              "          google.colab.kernel.accessAllowed ? 'block' : 'none';\n",
              "\n",
              "        async function convertToInteractive(key) {\n",
              "          const element = document.querySelector('#df-05becbb5-e100-4eed-917b-00b584e52c2c');\n",
              "          const dataTable =\n",
              "            await google.colab.kernel.invokeFunction('convertToInteractive',\n",
              "                                                     [key], {});\n",
              "          if (!dataTable) return;\n",
              "\n",
              "          const docLinkHtml = 'Like what you see? Visit the ' +\n",
              "            '<a target=\"_blank\" href=https://colab.research.google.com/notebooks/data_table.ipynb>data table notebook</a>'\n",
              "            + ' to learn more about interactive tables.';\n",
              "          element.innerHTML = '';\n",
              "          dataTable['output_type'] = 'display_data';\n",
              "          await google.colab.output.renderOutput(dataTable, element);\n",
              "          const docLink = document.createElement('div');\n",
              "          docLink.innerHTML = docLinkHtml;\n",
              "          element.appendChild(docLink);\n",
              "        }\n",
              "      </script>\n",
              "    </div>\n",
              "  </div>\n",
              "  "
            ]
          },
          "metadata": {},
          "execution_count": 52
        }
      ]
    },
    {
      "cell_type": "markdown",
      "source": [
        "**Analysis**\n",
        "\n",
        "***Difference between diet types:***\n",
        "\n",
        "*T-Test 1: Diet #1 vs Diet #2*\n",
        "\n",
        "$P(T > 0.718) = 0.475 > 0.05$ \n",
        "\n",
        "There is a significant difference between diet #1 and diet #2.\n",
        "\n",
        "*T-Test 2: Diet #1 vs Diet #3*\n",
        "\n",
        "$P(T > 3.746) = 3.2e-4 < 0.05$ \n",
        "\n",
        "There is a significant difference between diet #1 and diet #3.\n",
        "\n",
        "*T-Test 3: Diet #2 vs Diet #3*\n",
        "\n",
        "$P(T > 4.463) = 2.4e-5 < 0.05$ \n",
        "\n",
        "There is a significant difference between diet #2 and diet #3."
      ],
      "metadata": {
        "id": "BENLu9T1bIwz"
      }
    },
    {
      "cell_type": "markdown",
      "source": [
        "### **Conclusion**\n",
        "\n",
        "There are **significant** difference between the 3 diets, with diet 3 being significantly different from diet 1 and diet 2.\n",
        "\n",
        "**Diet 3** is the best in this case.\n",
        "\n",
        "The decrease in BMI seen in the participants using diet 3 is significantly greater than the decrease seen in participants using diet 1 and diet 2. "
      ],
      "metadata": {
        "id": "0nAVUEFLm7YU"
      }
    },
    {
      "cell_type": "markdown",
      "source": [
        "## **Two Way ANOVA**\n",
        "\n",
        "In this scenario, we will assume that gender and diet type is given as well.\n",
        "\n",
        "The model used for two way ANOVA is slightly more complicated than the model used in one way ANOVA.\n",
        "\n",
        "Model: $y_i = µ + τ_a + τ_b + τ_{ab} + e_i$, where $e_i$ ~ $N(0, σ^2)$ \n",
        "\n",
        "$µ$: overall mean response of k samples\n",
        "\n",
        "$τ_a$: treatment effect due to group A\n",
        "\n",
        "$τ_b$: treatment effect due to group B\n",
        "\n",
        "$τ_{ab}$: interaction effect \n"
      ],
      "metadata": {
        "id": "DrOjQIrsdaLu"
      }
    },
    {
      "cell_type": "code",
      "source": [
        "# visualize combined effect of gender and diet\n",
        "fig = interaction_plot(df['Diet'], df['Gender'], df['delta_bmi'], \n",
        "                       colors = [\"red\", \"blue\"], markers = [\"D\", \"^\"], ms = 10)"
      ],
      "metadata": {
        "colab": {
          "base_uri": "https://localhost:8080/",
          "height": 283
        },
        "id": "Hpu5Om5Ta0T1",
        "outputId": "9e3e60c3-3714-4ac4-83ad-4378721e6d8a"
      },
      "execution_count": 54,
      "outputs": [
        {
          "output_type": "display_data",
          "data": {
            "text/plain": [
              "<Figure size 432x288 with 1 Axes>"
            ],
            "image/png": "[encoded data removed]"
          },
          "metadata": {
            "needs_background": "light"
          }
        }
      ]
    },
    {
      "cell_type": "markdown",
      "source": [
        "Since the 2 curves are not parallel, there appears to be some level of interaction between the 2 factors."
      ],
      "metadata": {
        "id": "iNpZrmj48WtE"
      }
    },
    {
      "cell_type": "markdown",
      "source": [
        "**F-Test**\n",
        "\n",
        "$H0: τ_{ab} = 0$\n",
        "\n",
        "$H1 : τ_{ab} ≠ 0$\n",
        "\n",
        "Significance level: 5%"
      ],
      "metadata": {
        "id": "K_ZntZoSRl9K"
      }
    },
    {
      "cell_type": "code",
      "source": [
        "# create ANOVA table\n",
        "table = pd.DataFrame(columns = ['df', 'SS', 'MS', 'F'], index = ['Diet', 'Gender', 'Interaction', 'Error', 'Total'])\n",
        "\n",
        "# calculate degrees of freedom\n",
        "table.loc['Diet', 'df'] = df['Diet'].nunique() - 1\n",
        "table.loc['Gender', 'df'] = df['Gender'].nunique() - 1\n",
        "table.loc['Interaction', 'df'] = table.loc['Diet', 'df'] * table.loc['Gender', 'df']\n",
        "table.loc['Total', 'df'] = len(df) - 1\n",
        "table.loc['Error', 'df'] = table.loc['Total', 'df'] - table.loc['Interaction', 'df'] - table.loc['Gender', 'df'] - table.loc['Diet', 'df']\n",
        "\n",
        "# calculate sums of squares\n",
        "grand_mean = df['delta_bmi'].mean()\n",
        "table.loc['Diet', 'SS'] = 0\n",
        "for i, values in df.groupby('Diet')['delta_bmi']:\n",
        "    table.loc['Diet', 'SS'] += (values.mean() - grand_mean) ** 2 * len(values)\n",
        "table.loc['Gender', 'SS'] = 0\n",
        "for i, values in df.groupby('Gender')['delta_bmi']:\n",
        "    table.loc['Gender', 'SS'] += len(values) * (values.mean() - grand_mean) ** 2\n",
        "table.loc['Error', 'SS'] = 0\n",
        "for i, values in df.groupby(['Diet', 'Gender'])['delta_bmi']:\n",
        "    table.loc['Error', 'SS'] += np.sum((values - values.mean()) ** 2)\n",
        "table.loc['Total', 'SS'] = np.sum((df['delta_bmi'] - df['delta_bmi'].mean()) ** 2)\n",
        "table.loc['Interaction', 'SS'] = table.loc['Total', 'SS'] - table.loc['Error', 'SS'] - table.loc['Gender', 'SS'] - table.loc['Diet', 'SS']\n",
        "\n",
        "# calculate MS\n",
        "table['MS'] = table['SS'] / table['df']\n",
        "table.loc['Total', 'MS'] = None\n",
        "\n",
        "# calculate F\n",
        "table.loc['Diet', 'F'] = table.loc['Diet', 'MS'] / table.loc['Error', 'MS']\n",
        "table.loc['Gender', 'F'] = table.loc['Gender', 'MS'] / table.loc['Error', 'MS']\n",
        "table.loc['Interaction', 'F'] = table.loc['Interaction', 'MS'] / table.loc['Error', 'MS']\n",
        "\n",
        "table"
      ],
      "metadata": {
        "colab": {
          "base_uri": "https://localhost:8080/",
          "height": 206
        },
        "id": "YkFPRuL18c7n",
        "outputId": "15cb1dbf-b709-4336-cb44-c322b3705ee4"
      },
      "execution_count": 55,
      "outputs": [
        {
          "output_type": "execute_result",
          "data": {
            "text/plain": [
              "             df         SS        MS          F\n",
              "Diet          2  14.689575  7.344788  12.227877\n",
              "Gender        1   0.126302  0.126302   0.210273\n",
              "Interaction   2   5.025562  2.512781   4.183372\n",
              "Error        84  50.455378  0.600659        NaN\n",
              "Total        89  70.296819      None        NaN"
            ],
            "text/html": [
              "\n",
              "  <div id=\"df-f2f904d7-1620-4b70-845f-17cd73137a18\">\n",
              "    <div class=\"colab-df-container\">\n",
              "      <div>\n",
              "<style scoped>\n",
              "    .dataframe tbody tr th:only-of-type {\n",
              "        vertical-align: middle;\n",
              "    }\n",
              "\n",
              "    .dataframe tbody tr th {\n",
              "        vertical-align: top;\n",
              "    }\n",
              "\n",
              "    .dataframe thead th {\n",
              "        text-align: right;\n",
              "    }\n",
              "</style>\n",
              "<table border=\"1\" class=\"dataframe\">\n",
              "  <thead>\n",
              "    <tr style=\"text-align: right;\">\n",
              "      <th></th>\n",
              "      <th>df</th>\n",
              "      <th>SS</th>\n",
              "      <th>MS</th>\n",
              "      <th>F</th>\n",
              "    </tr>\n",
              "  </thead>\n",
              "  <tbody>\n",
              "    <tr>\n",
              "      <th>Diet</th>\n",
              "      <td>2</td>\n",
              "      <td>14.689575</td>\n",
              "      <td>7.344788</td>\n",
              "      <td>12.227877</td>\n",
              "    </tr>\n",
              "    <tr>\n",
              "      <th>Gender</th>\n",
              "      <td>1</td>\n",
              "      <td>0.126302</td>\n",
              "      <td>0.126302</td>\n",
              "      <td>0.210273</td>\n",
              "    </tr>\n",
              "    <tr>\n",
              "      <th>Interaction</th>\n",
              "      <td>2</td>\n",
              "      <td>5.025562</td>\n",
              "      <td>2.512781</td>\n",
              "      <td>4.183372</td>\n",
              "    </tr>\n",
              "    <tr>\n",
              "      <th>Error</th>\n",
              "      <td>84</td>\n",
              "      <td>50.455378</td>\n",
              "      <td>0.600659</td>\n",
              "      <td>NaN</td>\n",
              "    </tr>\n",
              "    <tr>\n",
              "      <th>Total</th>\n",
              "      <td>89</td>\n",
              "      <td>70.296819</td>\n",
              "      <td>None</td>\n",
              "      <td>NaN</td>\n",
              "    </tr>\n",
              "  </tbody>\n",
              "</table>\n",
              "</div>\n",
              "      <button class=\"colab-df-convert\" onclick=\"convertToInteractive('df-f2f904d7-1620-4b70-845f-17cd73137a18')\"\n",
              "              title=\"Convert this dataframe to an interactive table.\"\n",
              "              style=\"display:none;\">\n",
              "        \n",
              "  <svg xmlns=\"http://www.w3.org/2000/svg\" height=\"24px\"viewBox=\"0 0 24 24\"\n",
              "       width=\"24px\">\n",
              "    <path d=\"M0 0h24v24H0V0z\" fill=\"none\"/>\n",
              "    <path d=\"M18.56 5.44l.94 2.06.94-2.06 2.06-.94-2.06-.94-.94-2.06-.94 2.06-2.06.94zm-11 1L8.5 8.5l.94-2.06 2.06-.94-2.06-.94L8.5 2.5l-.94 2.06-2.06.94zm10 10l.94 2.06.94-2.06 2.06-.94-2.06-.94-.94-2.06-.94 2.06-2.06.94z\"/><path d=\"M17.41 7.96l-1.37-1.37c-.4-.4-.92-.59-1.43-.59-.52 0-1.04.2-1.43.59L10.3 9.45l-7.72 7.72c-.78.78-.78 2.05 0 2.83L4 21.41c.39.39.9.59 1.41.59.51 0 1.02-.2 1.41-.59l7.78-7.78 2.81-2.81c.8-.78.8-2.07 0-2.86zM5.41 20L4 18.59l7.72-7.72 1.47 1.35L5.41 20z\"/>\n",
              "  </svg>\n",
              "      </button>\n",
              "      \n",
              "  <style>\n",
              "    .colab-df-container {\n",
              "      display:flex;\n",
              "      flex-wrap:wrap;\n",
              "      gap: 12px;\n",
              "    }\n",
              "\n",
              "    .colab-df-convert {\n",
              "      background-color: #E8F0FE;\n",
              "      border: none;\n",
              "      border-radius: 50%;\n",
              "      cursor: pointer;\n",
              "      display: none;\n",
              "      fill: #1967D2;\n",
              "      height: 32px;\n",
              "      padding: 0 0 0 0;\n",
              "      width: 32px;\n",
              "    }\n",
              "\n",
              "    .colab-df-convert:hover {\n",
              "      background-color: #E2EBFA;\n",
              "      box-shadow: 0px 1px 2px rgba(60, 64, 67, 0.3), 0px 1px 3px 1px rgba(60, 64, 67, 0.15);\n",
              "      fill: #174EA6;\n",
              "    }\n",
              "\n",
              "    [theme=dark] .colab-df-convert {\n",
              "      background-color: #3B4455;\n",
              "      fill: #D2E3FC;\n",
              "    }\n",
              "\n",
              "    [theme=dark] .colab-df-convert:hover {\n",
              "      background-color: #434B5C;\n",
              "      box-shadow: 0px 1px 3px 1px rgba(0, 0, 0, 0.15);\n",
              "      filter: drop-shadow(0px 1px 2px rgba(0, 0, 0, 0.3));\n",
              "      fill: #FFFFFF;\n",
              "    }\n",
              "  </style>\n",
              "\n",
              "      <script>\n",
              "        const buttonEl =\n",
              "          document.querySelector('#df-f2f904d7-1620-4b70-845f-17cd73137a18 button.colab-df-convert');\n",
              "        buttonEl.style.display =\n",
              "          google.colab.kernel.accessAllowed ? 'block' : 'none';\n",
              "\n",
              "        async function convertToInteractive(key) {\n",
              "          const element = document.querySelector('#df-f2f904d7-1620-4b70-845f-17cd73137a18');\n",
              "          const dataTable =\n",
              "            await google.colab.kernel.invokeFunction('convertToInteractive',\n",
              "                                                     [key], {});\n",
              "          if (!dataTable) return;\n",
              "\n",
              "          const docLinkHtml = 'Like what you see? Visit the ' +\n",
              "            '<a target=\"_blank\" href=https://colab.research.google.com/notebooks/data_table.ipynb>data table notebook</a>'\n",
              "            + ' to learn more about interactive tables.';\n",
              "          element.innerHTML = '';\n",
              "          dataTable['output_type'] = 'display_data';\n",
              "          await google.colab.output.renderOutput(dataTable, element);\n",
              "          const docLink = document.createElement('div');\n",
              "          docLink.innerHTML = docLinkHtml;\n",
              "          element.appendChild(docLink);\n",
              "        }\n",
              "      </script>\n",
              "    </div>\n",
              "  </div>\n",
              "  "
            ]
          },
          "metadata": {},
          "execution_count": 55
        }
      ]
    },
    {
      "cell_type": "markdown",
      "source": [
        "**Using statsmodels**"
      ],
      "metadata": {
        "id": "MyD5ZV_I8D3N"
      }
    },
    {
      "cell_type": "code",
      "source": [
        "# Create linear models\n",
        "lm_1 = ols('delta_bmi ~ C(Gender) * C(Diet)', data = df).fit()\n",
        "lm_2 = ols('delta_bmi ~ C(Diet) * C(Gender)', data = df).fit()"
      ],
      "metadata": {
        "id": "IgP-l53benZY"
      },
      "execution_count": 58,
      "outputs": []
    },
    {
      "cell_type": "code",
      "source": [
        "# ANOVA Table\n",
        "anova_lm(lm_1, typ = 1)"
      ],
      "metadata": {
        "colab": {
          "base_uri": "https://localhost:8080/",
          "height": 175
        },
        "id": "eF7-24kD8IHy",
        "outputId": "75124f44-1e9a-4131-a3f4-0a4f8d353a6f"
      },
      "execution_count": 59,
      "outputs": [
        {
          "output_type": "execute_result",
          "data": {
            "text/plain": [
              "                     df     sum_sq   mean_sq          F    PR(>F)\n",
              "C(Gender)           1.0   0.126302  0.126302   0.210273  0.647738\n",
              "C(Diet)             2.0  14.789336  7.394668  12.310920  0.000020\n",
              "C(Gender):C(Diet)   2.0   4.925801  2.462901   4.100329  0.019994\n",
              "Residual           84.0  50.455378  0.600659        NaN       NaN"
            ],
            "text/html": [
              "\n",
              "  <div id=\"df-003a48e0-fc33-413c-be66-9086339a21cb\">\n",
              "    <div class=\"colab-df-container\">\n",
              "      <div>\n",
              "<style scoped>\n",
              "    .dataframe tbody tr th:only-of-type {\n",
              "        vertical-align: middle;\n",
              "    }\n",
              "\n",
              "    .dataframe tbody tr th {\n",
              "        vertical-align: top;\n",
              "    }\n",
              "\n",
              "    .dataframe thead th {\n",
              "        text-align: right;\n",
              "    }\n",
              "</style>\n",
              "<table border=\"1\" class=\"dataframe\">\n",
              "  <thead>\n",
              "    <tr style=\"text-align: right;\">\n",
              "      <th></th>\n",
              "      <th>df</th>\n",
              "      <th>sum_sq</th>\n",
              "      <th>mean_sq</th>\n",
              "      <th>F</th>\n",
              "      <th>PR(&gt;F)</th>\n",
              "    </tr>\n",
              "  </thead>\n",
              "  <tbody>\n",
              "    <tr>\n",
              "      <th>C(Gender)</th>\n",
              "      <td>1.0</td>\n",
              "      <td>0.126302</td>\n",
              "      <td>0.126302</td>\n",
              "      <td>0.210273</td>\n",
              "      <td>0.647738</td>\n",
              "    </tr>\n",
              "    <tr>\n",
              "      <th>C(Diet)</th>\n",
              "      <td>2.0</td>\n",
              "      <td>14.789336</td>\n",
              "      <td>7.394668</td>\n",
              "      <td>12.310920</td>\n",
              "      <td>0.000020</td>\n",
              "    </tr>\n",
              "    <tr>\n",
              "      <th>C(Gender):C(Diet)</th>\n",
              "      <td>2.0</td>\n",
              "      <td>4.925801</td>\n",
              "      <td>2.462901</td>\n",
              "      <td>4.100329</td>\n",
              "      <td>0.019994</td>\n",
              "    </tr>\n",
              "    <tr>\n",
              "      <th>Residual</th>\n",
              "      <td>84.0</td>\n",
              "      <td>50.455378</td>\n",
              "      <td>0.600659</td>\n",
              "      <td>NaN</td>\n",
              "      <td>NaN</td>\n",
              "    </tr>\n",
              "  </tbody>\n",
              "</table>\n",
              "</div>\n",
              "      <button class=\"colab-df-convert\" onclick=\"convertToInteractive('df-003a48e0-fc33-413c-be66-9086339a21cb')\"\n",
              "              title=\"Convert this dataframe to an interactive table.\"\n",
              "              style=\"display:none;\">\n",
              "        \n",
              "  <svg xmlns=\"http://www.w3.org/2000/svg\" height=\"24px\"viewBox=\"0 0 24 24\"\n",
              "       width=\"24px\">\n",
              "    <path d=\"M0 0h24v24H0V0z\" fill=\"none\"/>\n",
              "    <path d=\"M18.56 5.44l.94 2.06.94-2.06 2.06-.94-2.06-.94-.94-2.06-.94 2.06-2.06.94zm-11 1L8.5 8.5l.94-2.06 2.06-.94-2.06-.94L8.5 2.5l-.94 2.06-2.06.94zm10 10l.94 2.06.94-2.06 2.06-.94-2.06-.94-.94-2.06-.94 2.06-2.06.94z\"/><path d=\"M17.41 7.96l-1.37-1.37c-.4-.4-.92-.59-1.43-.59-.52 0-1.04.2-1.43.59L10.3 9.45l-7.72 7.72c-.78.78-.78 2.05 0 2.83L4 21.41c.39.39.9.59 1.41.59.51 0 1.02-.2 1.41-.59l7.78-7.78 2.81-2.81c.8-.78.8-2.07 0-2.86zM5.41 20L4 18.59l7.72-7.72 1.47 1.35L5.41 20z\"/>\n",
              "  </svg>\n",
              "      </button>\n",
              "      \n",
              "  <style>\n",
              "    .colab-df-container {\n",
              "      display:flex;\n",
              "      flex-wrap:wrap;\n",
              "      gap: 12px;\n",
              "    }\n",
              "\n",
              "    .colab-df-convert {\n",
              "      background-color: #E8F0FE;\n",
              "      border: none;\n",
              "      border-radius: 50%;\n",
              "      cursor: pointer;\n",
              "      display: none;\n",
              "      fill: #1967D2;\n",
              "      height: 32px;\n",
              "      padding: 0 0 0 0;\n",
              "      width: 32px;\n",
              "    }\n",
              "\n",
              "    .colab-df-convert:hover {\n",
              "      background-color: #E2EBFA;\n",
              "      box-shadow: 0px 1px 2px rgba(60, 64, 67, 0.3), 0px 1px 3px 1px rgba(60, 64, 67, 0.15);\n",
              "      fill: #174EA6;\n",
              "    }\n",
              "\n",
              "    [theme=dark] .colab-df-convert {\n",
              "      background-color: #3B4455;\n",
              "      fill: #D2E3FC;\n",
              "    }\n",
              "\n",
              "    [theme=dark] .colab-df-convert:hover {\n",
              "      background-color: #434B5C;\n",
              "      box-shadow: 0px 1px 3px 1px rgba(0, 0, 0, 0.15);\n",
              "      filter: drop-shadow(0px 1px 2px rgba(0, 0, 0, 0.3));\n",
              "      fill: #FFFFFF;\n",
              "    }\n",
              "  </style>\n",
              "\n",
              "      <script>\n",
              "        const buttonEl =\n",
              "          document.querySelector('#df-003a48e0-fc33-413c-be66-9086339a21cb button.colab-df-convert');\n",
              "        buttonEl.style.display =\n",
              "          google.colab.kernel.accessAllowed ? 'block' : 'none';\n",
              "\n",
              "        async function convertToInteractive(key) {\n",
              "          const element = document.querySelector('#df-003a48e0-fc33-413c-be66-9086339a21cb');\n",
              "          const dataTable =\n",
              "            await google.colab.kernel.invokeFunction('convertToInteractive',\n",
              "                                                     [key], {});\n",
              "          if (!dataTable) return;\n",
              "\n",
              "          const docLinkHtml = 'Like what you see? Visit the ' +\n",
              "            '<a target=\"_blank\" href=https://colab.research.google.com/notebooks/data_table.ipynb>data table notebook</a>'\n",
              "            + ' to learn more about interactive tables.';\n",
              "          element.innerHTML = '';\n",
              "          dataTable['output_type'] = 'display_data';\n",
              "          await google.colab.output.renderOutput(dataTable, element);\n",
              "          const docLink = document.createElement('div');\n",
              "          docLink.innerHTML = docLinkHtml;\n",
              "          element.appendChild(docLink);\n",
              "        }\n",
              "      </script>\n",
              "    </div>\n",
              "  </div>\n",
              "  "
            ]
          },
          "metadata": {},
          "execution_count": 59
        }
      ]
    },
    {
      "cell_type": "code",
      "source": [
        "anova_lm(lm_2, typ = 1)"
      ],
      "metadata": {
        "colab": {
          "base_uri": "https://localhost:8080/",
          "height": 175
        },
        "id": "lOGDExM6Otds",
        "outputId": "506ae6f1-2b7a-4b3c-f364-b106f224c90d"
      },
      "execution_count": 60,
      "outputs": [
        {
          "output_type": "execute_result",
          "data": {
            "text/plain": [
              "                     df     sum_sq   mean_sq          F    PR(>F)\n",
              "C(Diet)             2.0  14.689575  7.344788  12.227877  0.000022\n",
              "C(Gender)           1.0   0.226063  0.226063   0.376359  0.541216\n",
              "C(Diet):C(Gender)   2.0   4.925801  2.462901   4.100329  0.019994\n",
              "Residual           84.0  50.455378  0.600659        NaN       NaN"
            ],
            "text/html": [
              "\n",
              "  <div id=\"df-37655a42-6db6-4303-9943-3053a4c5dabb\">\n",
              "    <div class=\"colab-df-container\">\n",
              "      <div>\n",
              "<style scoped>\n",
              "    .dataframe tbody tr th:only-of-type {\n",
              "        vertical-align: middle;\n",
              "    }\n",
              "\n",
              "    .dataframe tbody tr th {\n",
              "        vertical-align: top;\n",
              "    }\n",
              "\n",
              "    .dataframe thead th {\n",
              "        text-align: right;\n",
              "    }\n",
              "</style>\n",
              "<table border=\"1\" class=\"dataframe\">\n",
              "  <thead>\n",
              "    <tr style=\"text-align: right;\">\n",
              "      <th></th>\n",
              "      <th>df</th>\n",
              "      <th>sum_sq</th>\n",
              "      <th>mean_sq</th>\n",
              "      <th>F</th>\n",
              "      <th>PR(&gt;F)</th>\n",
              "    </tr>\n",
              "  </thead>\n",
              "  <tbody>\n",
              "    <tr>\n",
              "      <th>C(Diet)</th>\n",
              "      <td>2.0</td>\n",
              "      <td>14.689575</td>\n",
              "      <td>7.344788</td>\n",
              "      <td>12.227877</td>\n",
              "      <td>0.000022</td>\n",
              "    </tr>\n",
              "    <tr>\n",
              "      <th>C(Gender)</th>\n",
              "      <td>1.0</td>\n",
              "      <td>0.226063</td>\n",
              "      <td>0.226063</td>\n",
              "      <td>0.376359</td>\n",
              "      <td>0.541216</td>\n",
              "    </tr>\n",
              "    <tr>\n",
              "      <th>C(Diet):C(Gender)</th>\n",
              "      <td>2.0</td>\n",
              "      <td>4.925801</td>\n",
              "      <td>2.462901</td>\n",
              "      <td>4.100329</td>\n",
              "      <td>0.019994</td>\n",
              "    </tr>\n",
              "    <tr>\n",
              "      <th>Residual</th>\n",
              "      <td>84.0</td>\n",
              "      <td>50.455378</td>\n",
              "      <td>0.600659</td>\n",
              "      <td>NaN</td>\n",
              "      <td>NaN</td>\n",
              "    </tr>\n",
              "  </tbody>\n",
              "</table>\n",
              "</div>\n",
              "      <button class=\"colab-df-convert\" onclick=\"convertToInteractive('df-37655a42-6db6-4303-9943-3053a4c5dabb')\"\n",
              "              title=\"Convert this dataframe to an interactive table.\"\n",
              "              style=\"display:none;\">\n",
              "        \n",
              "  <svg xmlns=\"http://www.w3.org/2000/svg\" height=\"24px\"viewBox=\"0 0 24 24\"\n",
              "       width=\"24px\">\n",
              "    <path d=\"M0 0h24v24H0V0z\" fill=\"none\"/>\n",
              "    <path d=\"M18.56 5.44l.94 2.06.94-2.06 2.06-.94-2.06-.94-.94-2.06-.94 2.06-2.06.94zm-11 1L8.5 8.5l.94-2.06 2.06-.94-2.06-.94L8.5 2.5l-.94 2.06-2.06.94zm10 10l.94 2.06.94-2.06 2.06-.94-2.06-.94-.94-2.06-.94 2.06-2.06.94z\"/><path d=\"M17.41 7.96l-1.37-1.37c-.4-.4-.92-.59-1.43-.59-.52 0-1.04.2-1.43.59L10.3 9.45l-7.72 7.72c-.78.78-.78 2.05 0 2.83L4 21.41c.39.39.9.59 1.41.59.51 0 1.02-.2 1.41-.59l7.78-7.78 2.81-2.81c.8-.78.8-2.07 0-2.86zM5.41 20L4 18.59l7.72-7.72 1.47 1.35L5.41 20z\"/>\n",
              "  </svg>\n",
              "      </button>\n",
              "      \n",
              "  <style>\n",
              "    .colab-df-container {\n",
              "      display:flex;\n",
              "      flex-wrap:wrap;\n",
              "      gap: 12px;\n",
              "    }\n",
              "\n",
              "    .colab-df-convert {\n",
              "      background-color: #E8F0FE;\n",
              "      border: none;\n",
              "      border-radius: 50%;\n",
              "      cursor: pointer;\n",
              "      display: none;\n",
              "      fill: #1967D2;\n",
              "      height: 32px;\n",
              "      padding: 0 0 0 0;\n",
              "      width: 32px;\n",
              "    }\n",
              "\n",
              "    .colab-df-convert:hover {\n",
              "      background-color: #E2EBFA;\n",
              "      box-shadow: 0px 1px 2px rgba(60, 64, 67, 0.3), 0px 1px 3px 1px rgba(60, 64, 67, 0.15);\n",
              "      fill: #174EA6;\n",
              "    }\n",
              "\n",
              "    [theme=dark] .colab-df-convert {\n",
              "      background-color: #3B4455;\n",
              "      fill: #D2E3FC;\n",
              "    }\n",
              "\n",
              "    [theme=dark] .colab-df-convert:hover {\n",
              "      background-color: #434B5C;\n",
              "      box-shadow: 0px 1px 3px 1px rgba(0, 0, 0, 0.15);\n",
              "      filter: drop-shadow(0px 1px 2px rgba(0, 0, 0, 0.3));\n",
              "      fill: #FFFFFF;\n",
              "    }\n",
              "  </style>\n",
              "\n",
              "      <script>\n",
              "        const buttonEl =\n",
              "          document.querySelector('#df-37655a42-6db6-4303-9943-3053a4c5dabb button.colab-df-convert');\n",
              "        buttonEl.style.display =\n",
              "          google.colab.kernel.accessAllowed ? 'block' : 'none';\n",
              "\n",
              "        async function convertToInteractive(key) {\n",
              "          const element = document.querySelector('#df-37655a42-6db6-4303-9943-3053a4c5dabb');\n",
              "          const dataTable =\n",
              "            await google.colab.kernel.invokeFunction('convertToInteractive',\n",
              "                                                     [key], {});\n",
              "          if (!dataTable) return;\n",
              "\n",
              "          const docLinkHtml = 'Like what you see? Visit the ' +\n",
              "            '<a target=\"_blank\" href=https://colab.research.google.com/notebooks/data_table.ipynb>data table notebook</a>'\n",
              "            + ' to learn more about interactive tables.';\n",
              "          element.innerHTML = '';\n",
              "          dataTable['output_type'] = 'display_data';\n",
              "          await google.colab.output.renderOutput(dataTable, element);\n",
              "          const docLink = document.createElement('div');\n",
              "          docLink.innerHTML = docLinkHtml;\n",
              "          element.appendChild(docLink);\n",
              "        }\n",
              "      </script>\n",
              "    </div>\n",
              "  </div>\n",
              "  "
            ]
          },
          "metadata": {},
          "execution_count": 60
        }
      ]
    },
    {
      "cell_type": "markdown",
      "source": [
        "It is interesting to note that changing the order of terms in the equation changes the sums of squares given in the ANOVA table.\n",
        "\n",
        ">Because of the sequential nature and the fact that the two main factors are tested in a particular order, this type of sums of squares will give different results for unbalanced data depending on which main effect is considered first.<br>\n",
        "> Source: https://stats.stackexchange.com/questions/279459/output-of-aov-in-r-varies-with-changing-order-of-independent-variables\n"
      ],
      "metadata": {
        "id": "JICgHaTrP32I"
      }
    },
    {
      "cell_type": "markdown",
      "source": [
        "### **Conclusions**\n",
        "\n",
        "Using the smaller of the 2 F values for the interaction, we can conclude the following:\n",
        "\n",
        "$P(F(2, 84) > 4.10) = 0.019994 < 0.05$\n",
        "\n",
        "There are significant interactions between type of diet and gender.\n",
        "\n",
        "Since we have found significant interactions between type of diet and gender, there is no need to further test for significant effects of type and diet individually.\n",
        "\n",
        "Again, we can conclude that the diets are significantly different, but the best diet depends on the gender."
      ],
      "metadata": {
        "id": "j27gZrvCksqg"
      }
    },
    {
      "cell_type": "markdown",
      "source": [
        "## **One Way ANCOVA**\n",
        "\n",
        "In this scenario, we will assume that data about age and diet is given.\n",
        "\n",
        "**Disclaimer:**\n",
        "\n",
        "I understand there is little correlation between age and change in bmi, but this is solely for practice."
      ],
      "metadata": {
        "id": "TtmaGnyqQXd_"
      }
    },
    {
      "cell_type": "markdown",
      "source": [
        "Reduced model: $y_i = x_{i0} + x_{i1}β_1 + e_i$, where $e_i$ ~ $N(0,σ^2)$\n",
        "\n",
        "Full model: $y_i = x_{i0} + x_{i1}β_1 + x_{i2}β_2 + x_{i3}β_3 + e_i$, where $e_i$ ~ $N(0,σ^2)$\n",
        "\n",
        "$x_1$: Age\n",
        "\n",
        "$x_2$ and $x_3$: one hot encoding for diet \n",
        "\n",
        "One thing to note is that 1 categorical variable encoding is dropped to prevent a singular matrix from being formed.\n",
        "\n",
        "**F-test:**\n",
        "\n",
        "$H_0: β_{q+1} = β_{q+2} = ... = β_{p} = 0$\n",
        "\n",
        "$H_0: β_i ≠ β_j$ for some $i ≠ j$ where $q < i,j ≤ p$ \n",
        "\n",
        "Significance level: 5%"
      ],
      "metadata": {
        "id": "7V8cMp5V1tbV"
      }
    },
    {
      "cell_type": "code",
      "source": [
        "# Create ANOVA Table\n",
        "table = pd.DataFrame(columns = ['df', 'SS', 'MS', 'F'], index = ['Regression', 'Extra', 'Residue', 'Total'])\n",
        "\n",
        "# calculate degree of freedom\n",
        "table.loc['Regression', 'df'] = 1\n",
        "table.loc['Extra', 'df'] = df['Diet'].nunique() - 1\n",
        "table.loc['Total', 'df'] = len(df) - 1\n",
        "table.loc['Residue', 'df'] = table.loc['Total', 'df'] - table.loc['Regression', 'df'] - table.loc['Extra', 'df']\n",
        "\n",
        "# calculate sums of squares\n",
        "model = LinearRegression()\n",
        "model.fit(df[['Age']].to_numpy(), df['delta_bmi'].to_numpy())\n",
        "predictions = model.predict(df[['Age']].to_numpy())\n",
        "grand_mean = df['delta_bmi'].mean()\n",
        "table.loc['Regression', 'SS'] = np.sum((predictions - grand_mean) ** 2)\n",
        "\n",
        "model = LinearRegression()\n",
        "one_hot = pd.get_dummies(df['Diet']).iloc[:,:-1]\n",
        "X = pd.concat([df[['Age']], one_hot], axis = 1).to_numpy()\n",
        "model.fit(X, df['delta_bmi'].to_numpy())\n",
        "predictions = model.predict(X)\n",
        "table.loc['Extra', 'SS'] = np.sum((predictions - grand_mean) ** 2) - table.loc['Regression', 'SS']\n",
        "\n",
        "table.loc['Total', 'SS'] = np.sum((df['delta_bmi'] - grand_mean) ** 2) \n",
        "table.loc['Residue', 'SS'] = table.loc['Total', 'SS'] - table.loc['Extra', 'SS'] - table.loc['Regression', 'SS']\n",
        "\n",
        "# calculate Mean Squares\n",
        "table['MS'] = table['SS'] / table['df']\n",
        "table.loc['Total', 'MS'] = None\n",
        "\n",
        "# calculate F\n",
        "table.loc['Extra', 'F'] = table.loc['Extra', 'MS'] / table.loc['Residue', 'MS']\n",
        "\n",
        "table"
      ],
      "metadata": {
        "id": "XWUGNEyciWu5",
        "colab": {
          "base_uri": "https://localhost:8080/",
          "height": 175
        },
        "outputId": "b77ec2dd-9854-4d85-a20a-12b46d3c2343"
      },
      "execution_count": 95,
      "outputs": [
        {
          "output_type": "execute_result",
          "data": {
            "text/plain": [
              "            df         SS        MS          F\n",
              "Regression   1   0.090424  0.090424        NaN\n",
              "Extra        2  14.599498  7.299749  11.289579\n",
              "Residue     86  55.606896  0.646592        NaN\n",
              "Total       89  70.296819      None        NaN"
            ],
            "text/html": [
              "\n",
              "  <div id=\"df-5e4d70e0-34de-4526-a8c7-b015696a470b\">\n",
              "    <div class=\"colab-df-container\">\n",
              "      <div>\n",
              "<style scoped>\n",
              "    .dataframe tbody tr th:only-of-type {\n",
              "        vertical-align: middle;\n",
              "    }\n",
              "\n",
              "    .dataframe tbody tr th {\n",
              "        vertical-align: top;\n",
              "    }\n",
              "\n",
              "    .dataframe thead th {\n",
              "        text-align: right;\n",
              "    }\n",
              "</style>\n",
              "<table border=\"1\" class=\"dataframe\">\n",
              "  <thead>\n",
              "    <tr style=\"text-align: right;\">\n",
              "      <th></th>\n",
              "      <th>df</th>\n",
              "      <th>SS</th>\n",
              "      <th>MS</th>\n",
              "      <th>F</th>\n",
              "    </tr>\n",
              "  </thead>\n",
              "  <tbody>\n",
              "    <tr>\n",
              "      <th>Regression</th>\n",
              "      <td>1</td>\n",
              "      <td>0.090424</td>\n",
              "      <td>0.090424</td>\n",
              "      <td>NaN</td>\n",
              "    </tr>\n",
              "    <tr>\n",
              "      <th>Extra</th>\n",
              "      <td>2</td>\n",
              "      <td>14.599498</td>\n",
              "      <td>7.299749</td>\n",
              "      <td>11.289579</td>\n",
              "    </tr>\n",
              "    <tr>\n",
              "      <th>Residue</th>\n",
              "      <td>86</td>\n",
              "      <td>55.606896</td>\n",
              "      <td>0.646592</td>\n",
              "      <td>NaN</td>\n",
              "    </tr>\n",
              "    <tr>\n",
              "      <th>Total</th>\n",
              "      <td>89</td>\n",
              "      <td>70.296819</td>\n",
              "      <td>None</td>\n",
              "      <td>NaN</td>\n",
              "    </tr>\n",
              "  </tbody>\n",
              "</table>\n",
              "</div>\n",
              "      <button class=\"colab-df-convert\" onclick=\"convertToInteractive('df-5e4d70e0-34de-4526-a8c7-b015696a470b')\"\n",
              "              title=\"Convert this dataframe to an interactive table.\"\n",
              "              style=\"display:none;\">\n",
              "        \n",
              "  <svg xmlns=\"http://www.w3.org/2000/svg\" height=\"24px\"viewBox=\"0 0 24 24\"\n",
              "       width=\"24px\">\n",
              "    <path d=\"M0 0h24v24H0V0z\" fill=\"none\"/>\n",
              "    <path d=\"M18.56 5.44l.94 2.06.94-2.06 2.06-.94-2.06-.94-.94-2.06-.94 2.06-2.06.94zm-11 1L8.5 8.5l.94-2.06 2.06-.94-2.06-.94L8.5 2.5l-.94 2.06-2.06.94zm10 10l.94 2.06.94-2.06 2.06-.94-2.06-.94-.94-2.06-.94 2.06-2.06.94z\"/><path d=\"M17.41 7.96l-1.37-1.37c-.4-.4-.92-.59-1.43-.59-.52 0-1.04.2-1.43.59L10.3 9.45l-7.72 7.72c-.78.78-.78 2.05 0 2.83L4 21.41c.39.39.9.59 1.41.59.51 0 1.02-.2 1.41-.59l7.78-7.78 2.81-2.81c.8-.78.8-2.07 0-2.86zM5.41 20L4 18.59l7.72-7.72 1.47 1.35L5.41 20z\"/>\n",
              "  </svg>\n",
              "      </button>\n",
              "      \n",
              "  <style>\n",
              "    .colab-df-container {\n",
              "      display:flex;\n",
              "      flex-wrap:wrap;\n",
              "      gap: 12px;\n",
              "    }\n",
              "\n",
              "    .colab-df-convert {\n",
              "      background-color: #E8F0FE;\n",
              "      border: none;\n",
              "      border-radius: 50%;\n",
              "      cursor: pointer;\n",
              "      display: none;\n",
              "      fill: #1967D2;\n",
              "      height: 32px;\n",
              "      padding: 0 0 0 0;\n",
              "      width: 32px;\n",
              "    }\n",
              "\n",
              "    .colab-df-convert:hover {\n",
              "      background-color: #E2EBFA;\n",
              "      box-shadow: 0px 1px 2px rgba(60, 64, 67, 0.3), 0px 1px 3px 1px rgba(60, 64, 67, 0.15);\n",
              "      fill: #174EA6;\n",
              "    }\n",
              "\n",
              "    [theme=dark] .colab-df-convert {\n",
              "      background-color: #3B4455;\n",
              "      fill: #D2E3FC;\n",
              "    }\n",
              "\n",
              "    [theme=dark] .colab-df-convert:hover {\n",
              "      background-color: #434B5C;\n",
              "      box-shadow: 0px 1px 3px 1px rgba(0, 0, 0, 0.15);\n",
              "      filter: drop-shadow(0px 1px 2px rgba(0, 0, 0, 0.3));\n",
              "      fill: #FFFFFF;\n",
              "    }\n",
              "  </style>\n",
              "\n",
              "      <script>\n",
              "        const buttonEl =\n",
              "          document.querySelector('#df-5e4d70e0-34de-4526-a8c7-b015696a470b button.colab-df-convert');\n",
              "        buttonEl.style.display =\n",
              "          google.colab.kernel.accessAllowed ? 'block' : 'none';\n",
              "\n",
              "        async function convertToInteractive(key) {\n",
              "          const element = document.querySelector('#df-5e4d70e0-34de-4526-a8c7-b015696a470b');\n",
              "          const dataTable =\n",
              "            await google.colab.kernel.invokeFunction('convertToInteractive',\n",
              "                                                     [key], {});\n",
              "          if (!dataTable) return;\n",
              "\n",
              "          const docLinkHtml = 'Like what you see? Visit the ' +\n",
              "            '<a target=\"_blank\" href=https://colab.research.google.com/notebooks/data_table.ipynb>data table notebook</a>'\n",
              "            + ' to learn more about interactive tables.';\n",
              "          element.innerHTML = '';\n",
              "          dataTable['output_type'] = 'display_data';\n",
              "          await google.colab.output.renderOutput(dataTable, element);\n",
              "          const docLink = document.createElement('div');\n",
              "          docLink.innerHTML = docLinkHtml;\n",
              "          element.appendChild(docLink);\n",
              "        }\n",
              "      </script>\n",
              "    </div>\n",
              "  </div>\n",
              "  "
            ]
          },
          "metadata": {},
          "execution_count": 95
        }
      ]
    },
    {
      "cell_type": "markdown",
      "source": [
        "**Using statsmodels**"
      ],
      "metadata": {
        "id": "1-R0o-2CzDQt"
      }
    },
    {
      "cell_type": "code",
      "source": [
        "lm_3 = ols('delta_bmi ~ Age', data = df).fit()\n",
        "lm_4 = ols('delta_bmi ~ Age + C(Diet)', data = df).fit()"
      ],
      "metadata": {
        "id": "lGSEjgZvtH6c"
      },
      "execution_count": 86,
      "outputs": []
    },
    {
      "cell_type": "code",
      "source": [
        "anova_lm(lm_3, lm_4)"
      ],
      "metadata": {
        "colab": {
          "base_uri": "https://localhost:8080/",
          "height": 112
        },
        "id": "qq6yxtJuu-7-",
        "outputId": "f11f9710-aeb0-409a-e760-d161e872e1e8"
      },
      "execution_count": 89,
      "outputs": [
        {
          "output_type": "execute_result",
          "data": {
            "text/plain": [
              "   df_resid        ssr  df_diff    ss_diff          F    Pr(>F)\n",
              "0      88.0  70.206395      0.0        NaN        NaN       NaN\n",
              "1      86.0  55.606896      2.0  14.599498  11.289579  0.000044"
            ],
            "text/html": [
              "\n",
              "  <div id=\"df-fbad1448-1680-4c53-95dd-33f90e0f525d\">\n",
              "    <div class=\"colab-df-container\">\n",
              "      <div>\n",
              "<style scoped>\n",
              "    .dataframe tbody tr th:only-of-type {\n",
              "        vertical-align: middle;\n",
              "    }\n",
              "\n",
              "    .dataframe tbody tr th {\n",
              "        vertical-align: top;\n",
              "    }\n",
              "\n",
              "    .dataframe thead th {\n",
              "        text-align: right;\n",
              "    }\n",
              "</style>\n",
              "<table border=\"1\" class=\"dataframe\">\n",
              "  <thead>\n",
              "    <tr style=\"text-align: right;\">\n",
              "      <th></th>\n",
              "      <th>df_resid</th>\n",
              "      <th>ssr</th>\n",
              "      <th>df_diff</th>\n",
              "      <th>ss_diff</th>\n",
              "      <th>F</th>\n",
              "      <th>Pr(&gt;F)</th>\n",
              "    </tr>\n",
              "  </thead>\n",
              "  <tbody>\n",
              "    <tr>\n",
              "      <th>0</th>\n",
              "      <td>88.0</td>\n",
              "      <td>70.206395</td>\n",
              "      <td>0.0</td>\n",
              "      <td>NaN</td>\n",
              "      <td>NaN</td>\n",
              "      <td>NaN</td>\n",
              "    </tr>\n",
              "    <tr>\n",
              "      <th>1</th>\n",
              "      <td>86.0</td>\n",
              "      <td>55.606896</td>\n",
              "      <td>2.0</td>\n",
              "      <td>14.599498</td>\n",
              "      <td>11.289579</td>\n",
              "      <td>0.000044</td>\n",
              "    </tr>\n",
              "  </tbody>\n",
              "</table>\n",
              "</div>\n",
              "      <button class=\"colab-df-convert\" onclick=\"convertToInteractive('df-fbad1448-1680-4c53-95dd-33f90e0f525d')\"\n",
              "              title=\"Convert this dataframe to an interactive table.\"\n",
              "              style=\"display:none;\">\n",
              "        \n",
              "  <svg xmlns=\"http://www.w3.org/2000/svg\" height=\"24px\"viewBox=\"0 0 24 24\"\n",
              "       width=\"24px\">\n",
              "    <path d=\"M0 0h24v24H0V0z\" fill=\"none\"/>\n",
              "    <path d=\"M18.56 5.44l.94 2.06.94-2.06 2.06-.94-2.06-.94-.94-2.06-.94 2.06-2.06.94zm-11 1L8.5 8.5l.94-2.06 2.06-.94-2.06-.94L8.5 2.5l-.94 2.06-2.06.94zm10 10l.94 2.06.94-2.06 2.06-.94-2.06-.94-.94-2.06-.94 2.06-2.06.94z\"/><path d=\"M17.41 7.96l-1.37-1.37c-.4-.4-.92-.59-1.43-.59-.52 0-1.04.2-1.43.59L10.3 9.45l-7.72 7.72c-.78.78-.78 2.05 0 2.83L4 21.41c.39.39.9.59 1.41.59.51 0 1.02-.2 1.41-.59l7.78-7.78 2.81-2.81c.8-.78.8-2.07 0-2.86zM5.41 20L4 18.59l7.72-7.72 1.47 1.35L5.41 20z\"/>\n",
              "  </svg>\n",
              "      </button>\n",
              "      \n",
              "  <style>\n",
              "    .colab-df-container {\n",
              "      display:flex;\n",
              "      flex-wrap:wrap;\n",
              "      gap: 12px;\n",
              "    }\n",
              "\n",
              "    .colab-df-convert {\n",
              "      background-color: #E8F0FE;\n",
              "      border: none;\n",
              "      border-radius: 50%;\n",
              "      cursor: pointer;\n",
              "      display: none;\n",
              "      fill: #1967D2;\n",
              "      height: 32px;\n",
              "      padding: 0 0 0 0;\n",
              "      width: 32px;\n",
              "    }\n",
              "\n",
              "    .colab-df-convert:hover {\n",
              "      background-color: #E2EBFA;\n",
              "      box-shadow: 0px 1px 2px rgba(60, 64, 67, 0.3), 0px 1px 3px 1px rgba(60, 64, 67, 0.15);\n",
              "      fill: #174EA6;\n",
              "    }\n",
              "\n",
              "    [theme=dark] .colab-df-convert {\n",
              "      background-color: #3B4455;\n",
              "      fill: #D2E3FC;\n",
              "    }\n",
              "\n",
              "    [theme=dark] .colab-df-convert:hover {\n",
              "      background-color: #434B5C;\n",
              "      box-shadow: 0px 1px 3px 1px rgba(0, 0, 0, 0.15);\n",
              "      filter: drop-shadow(0px 1px 2px rgba(0, 0, 0, 0.3));\n",
              "      fill: #FFFFFF;\n",
              "    }\n",
              "  </style>\n",
              "\n",
              "      <script>\n",
              "        const buttonEl =\n",
              "          document.querySelector('#df-fbad1448-1680-4c53-95dd-33f90e0f525d button.colab-df-convert');\n",
              "        buttonEl.style.display =\n",
              "          google.colab.kernel.accessAllowed ? 'block' : 'none';\n",
              "\n",
              "        async function convertToInteractive(key) {\n",
              "          const element = document.querySelector('#df-fbad1448-1680-4c53-95dd-33f90e0f525d');\n",
              "          const dataTable =\n",
              "            await google.colab.kernel.invokeFunction('convertToInteractive',\n",
              "                                                     [key], {});\n",
              "          if (!dataTable) return;\n",
              "\n",
              "          const docLinkHtml = 'Like what you see? Visit the ' +\n",
              "            '<a target=\"_blank\" href=https://colab.research.google.com/notebooks/data_table.ipynb>data table notebook</a>'\n",
              "            + ' to learn more about interactive tables.';\n",
              "          element.innerHTML = '';\n",
              "          dataTable['output_type'] = 'display_data';\n",
              "          await google.colab.output.renderOutput(dataTable, element);\n",
              "          const docLink = document.createElement('div');\n",
              "          docLink.innerHTML = docLinkHtml;\n",
              "          element.appendChild(docLink);\n",
              "        }\n",
              "      </script>\n",
              "    </div>\n",
              "  </div>\n",
              "  "
            ]
          },
          "metadata": {},
          "execution_count": 89
        }
      ]
    },
    {
      "cell_type": "markdown",
      "source": [
        "### **Conclusions**\n",
        "\n",
        "$P(F > 11.29) = 0.000044 < 0.05$\n",
        "\n",
        "Therefore, there is a significant relation between diet and change in bmi."
      ],
      "metadata": {
        "id": "Bouq_tbF0omQ"
      }
    },
    {
      "cell_type": "markdown",
      "source": [
        "## **Two way ANCOVA**\n",
        "\n",
        "In this scenario, we will assume that the age, gender and diet is given.\n",
        "\n",
        "Reduced model: $y_i = x_{i0} + x_{i1}β_1 + x_{i2}β_2 + x_{i3}β_3 +  x_{i4}β_4 + e_i$, where $e_i$ ~ $N(0,σ^2)$\n",
        "\n",
        "Full model: $y_i = x_{i0} + x_{i1}β_1 + x_{i2}β_2 + x_{i3}β_3 +  x_{i4}β_4 + x_{i2}x_{i4}β_5 + x_{i3}x_{i4}β_6 + e_i$, where $e_i$ ~ $N(0,σ^2)$\n",
        "\n",
        "$x_{i1}$: Age\n",
        "\n",
        "$x_{i2}$ and $x_{i3}$: Diet\n",
        "\n",
        "$x_{i4}$: Gender\n",
        "\n",
        "$x_{i2}x_{i4}$ and $x_{i3}x_{i4}$: Interaction effects\n",
        "\n",
        "**F-Test**:\n",
        "\n",
        "$H_0: x_{i2}x_{i4} = x_{i3}x_{i4} = 0$\n",
        "\n",
        "$H_0: x_{ia}x_{ib} ≠ 0$ for some $2 ≤ a ≤ 3$ and $b == 4$"
      ],
      "metadata": {
        "id": "sUfgFSPi2a8h"
      }
    },
    {
      "cell_type": "code",
      "source": [
        "# Create ANOVA Table\n",
        "table = pd.DataFrame(columns = ['df', 'SS', 'MS', 'F'], index = ['Regression', 'Diet', 'Gender', 'Interaction', 'Error', 'Total'])\n",
        "\n",
        "# calculate degree of freedom\n",
        "table.loc['Regression', 'df'] = 1\n",
        "table.loc['Diet', 'df'] = df['Diet'].nunique() - 1 \n",
        "table.loc['Gender', 'df'] = df['Gender'].nunique() - 1\n",
        "table.loc['Interaction', 'df'] = table.loc['Diet', 'df'] * table.loc['Gender', 'df']\n",
        "table.loc['Total', 'df'] = len(df) - 1\n",
        "table.loc['Error', 'df'] = table.loc['Total', 'df'] - table.loc['Interaction', 'df'] - table.loc['Gender', 'df'] - table.loc['Diet', 'df'] - table.loc['Regression', 'df']\n",
        "\n",
        "# calculate sums of squares\n",
        "model = LinearRegression()\n",
        "model.fit(df[['Age']].to_numpy(), df['delta_bmi'].to_numpy())\n",
        "predictions = model.predict(df[['Age']].to_numpy())\n",
        "grand_mean = df['delta_bmi'].mean()\n",
        "table.loc['Regression', 'SS'] = np.sum((predictions - grand_mean) ** 2)\n",
        "\n",
        "model = LinearRegression()\n",
        "one_hot = pd.get_dummies(df['Diet']).iloc[:,:-1]\n",
        "X = pd.concat([df[['Age']], one_hot], axis = 1).to_numpy()\n",
        "model.fit(X, df['delta_bmi'].to_numpy())\n",
        "predictions = model.predict(X)\n",
        "table.loc['Diet', 'SS'] = np.sum((predictions - grand_mean) ** 2) - table.loc['Regression', 'SS']\n",
        "\n",
        "model = LinearRegression()\n",
        "one_hot_diet = pd.get_dummies(df['Diet']).iloc[:, :-1]\n",
        "one_hot_gender = df['Gender']\n",
        "X = pd.concat([df[['Age']], one_hot_diet, one_hot_gender], axis = 1).to_numpy()\n",
        "model.fit(X, df['delta_bmi'].to_numpy())\n",
        "predictions = model.predict(X)\n",
        "table.loc['Gender', 'SS'] = np.sum((predictions - grand_mean) ** 2) - table.loc['Regression', 'SS'] - table.loc['Diet', 'SS']\n",
        "\n",
        "model = LinearRegression()\n",
        "one_hot_diet = pd.get_dummies(df['Diet']).iloc[:, :-1]\n",
        "one_hot_gender = df['Gender']\n",
        "one_hot_interactions = pd.DataFrame(one_hot_diet.to_numpy() * one_hot_gender.to_numpy().reshape((-1, 1)))\n",
        "X = pd.concat([df[['Age']], one_hot_diet, one_hot_gender, one_hot_interactions], axis = 1).to_numpy()\n",
        "model.fit(X, df['delta_bmi'].to_numpy())\n",
        "predictions = model.predict(X)\n",
        "table.loc['Interaction', 'SS'] = np.sum((predictions - grand_mean) ** 2) - table.loc['Regression', 'SS'] - table.loc['Diet', 'SS'] - table.loc['Gender', 'SS']\n",
        "\n",
        "table.loc['Total', 'SS'] = np.sum((df['delta_bmi'] - grand_mean) ** 2)\n",
        "table.loc['Error', 'SS'] = table.loc['Total', 'SS'] - table.loc['Regression', 'SS'] - table.loc['Diet', 'SS'] - table.loc['Gender', 'SS'] - table.loc['Interaction', 'SS']\n",
        "\n",
        "# calculate means squares\n",
        "table['MS'] = table['SS'] / table['df']\n",
        "table.loc['Total', 'MS'] = None\n",
        "\n",
        "# calculate F\n",
        "table.loc['Diet', 'F'] = table.loc['Diet', 'MS'] / table.loc['Error', 'MS']\n",
        "table.loc['Gender', 'F'] = table.loc['Gender', 'MS'] / table.loc['Error', 'MS']\n",
        "table.loc['Interaction', 'F'] = table.loc['Interaction', 'MS'] / table.loc['Error', 'MS']\n",
        "\n",
        "table"
      ],
      "metadata": {
        "colab": {
          "base_uri": "https://localhost:8080/",
          "height": 237
        },
        "id": "qKla3Vk2vXnL",
        "outputId": "50a74a24-f530-4562-e08d-fe24227c0865"
      },
      "execution_count": 132,
      "outputs": [
        {
          "output_type": "execute_result",
          "data": {
            "text/plain": [
              "             df         SS        MS          F\n",
              "Regression    1   0.090424  0.090424        NaN\n",
              "Diet          2  14.599498  7.299749  12.012931\n",
              "Gender        1   0.225761  0.225761   0.371527\n",
              "Interaction   2   4.945551  2.472776   4.069357\n",
              "Error        83  50.435584  0.607658        NaN\n",
              "Total        89  70.296819      None        NaN"
            ],
            "text/html": [
              "\n",
              "  <div id=\"df-d79ac0f1-9893-4a57-be11-295fcc7cd66c\">\n",
              "    <div class=\"colab-df-container\">\n",
              "      <div>\n",
              "<style scoped>\n",
              "    .dataframe tbody tr th:only-of-type {\n",
              "        vertical-align: middle;\n",
              "    }\n",
              "\n",
              "    .dataframe tbody tr th {\n",
              "        vertical-align: top;\n",
              "    }\n",
              "\n",
              "    .dataframe thead th {\n",
              "        text-align: right;\n",
              "    }\n",
              "</style>\n",
              "<table border=\"1\" class=\"dataframe\">\n",
              "  <thead>\n",
              "    <tr style=\"text-align: right;\">\n",
              "      <th></th>\n",
              "      <th>df</th>\n",
              "      <th>SS</th>\n",
              "      <th>MS</th>\n",
              "      <th>F</th>\n",
              "    </tr>\n",
              "  </thead>\n",
              "  <tbody>\n",
              "    <tr>\n",
              "      <th>Regression</th>\n",
              "      <td>1</td>\n",
              "      <td>0.090424</td>\n",
              "      <td>0.090424</td>\n",
              "      <td>NaN</td>\n",
              "    </tr>\n",
              "    <tr>\n",
              "      <th>Diet</th>\n",
              "      <td>2</td>\n",
              "      <td>14.599498</td>\n",
              "      <td>7.299749</td>\n",
              "      <td>12.012931</td>\n",
              "    </tr>\n",
              "    <tr>\n",
              "      <th>Gender</th>\n",
              "      <td>1</td>\n",
              "      <td>0.225761</td>\n",
              "      <td>0.225761</td>\n",
              "      <td>0.371527</td>\n",
              "    </tr>\n",
              "    <tr>\n",
              "      <th>Interaction</th>\n",
              "      <td>2</td>\n",
              "      <td>4.945551</td>\n",
              "      <td>2.472776</td>\n",
              "      <td>4.069357</td>\n",
              "    </tr>\n",
              "    <tr>\n",
              "      <th>Error</th>\n",
              "      <td>83</td>\n",
              "      <td>50.435584</td>\n",
              "      <td>0.607658</td>\n",
              "      <td>NaN</td>\n",
              "    </tr>\n",
              "    <tr>\n",
              "      <th>Total</th>\n",
              "      <td>89</td>\n",
              "      <td>70.296819</td>\n",
              "      <td>None</td>\n",
              "      <td>NaN</td>\n",
              "    </tr>\n",
              "  </tbody>\n",
              "</table>\n",
              "</div>\n",
              "      <button class=\"colab-df-convert\" onclick=\"convertToInteractive('df-d79ac0f1-9893-4a57-be11-295fcc7cd66c')\"\n",
              "              title=\"Convert this dataframe to an interactive table.\"\n",
              "              style=\"display:none;\">\n",
              "        \n",
              "  <svg xmlns=\"http://www.w3.org/2000/svg\" height=\"24px\"viewBox=\"0 0 24 24\"\n",
              "       width=\"24px\">\n",
              "    <path d=\"M0 0h24v24H0V0z\" fill=\"none\"/>\n",
              "    <path d=\"M18.56 5.44l.94 2.06.94-2.06 2.06-.94-2.06-.94-.94-2.06-.94 2.06-2.06.94zm-11 1L8.5 8.5l.94-2.06 2.06-.94-2.06-.94L8.5 2.5l-.94 2.06-2.06.94zm10 10l.94 2.06.94-2.06 2.06-.94-2.06-.94-.94-2.06-.94 2.06-2.06.94z\"/><path d=\"M17.41 7.96l-1.37-1.37c-.4-.4-.92-.59-1.43-.59-.52 0-1.04.2-1.43.59L10.3 9.45l-7.72 7.72c-.78.78-.78 2.05 0 2.83L4 21.41c.39.39.9.59 1.41.59.51 0 1.02-.2 1.41-.59l7.78-7.78 2.81-2.81c.8-.78.8-2.07 0-2.86zM5.41 20L4 18.59l7.72-7.72 1.47 1.35L5.41 20z\"/>\n",
              "  </svg>\n",
              "      </button>\n",
              "      \n",
              "  <style>\n",
              "    .colab-df-container {\n",
              "      display:flex;\n",
              "      flex-wrap:wrap;\n",
              "      gap: 12px;\n",
              "    }\n",
              "\n",
              "    .colab-df-convert {\n",
              "      background-color: #E8F0FE;\n",
              "      border: none;\n",
              "      border-radius: 50%;\n",
              "      cursor: pointer;\n",
              "      display: none;\n",
              "      fill: #1967D2;\n",
              "      height: 32px;\n",
              "      padding: 0 0 0 0;\n",
              "      width: 32px;\n",
              "    }\n",
              "\n",
              "    .colab-df-convert:hover {\n",
              "      background-color: #E2EBFA;\n",
              "      box-shadow: 0px 1px 2px rgba(60, 64, 67, 0.3), 0px 1px 3px 1px rgba(60, 64, 67, 0.15);\n",
              "      fill: #174EA6;\n",
              "    }\n",
              "\n",
              "    [theme=dark] .colab-df-convert {\n",
              "      background-color: #3B4455;\n",
              "      fill: #D2E3FC;\n",
              "    }\n",
              "\n",
              "    [theme=dark] .colab-df-convert:hover {\n",
              "      background-color: #434B5C;\n",
              "      box-shadow: 0px 1px 3px 1px rgba(0, 0, 0, 0.15);\n",
              "      filter: drop-shadow(0px 1px 2px rgba(0, 0, 0, 0.3));\n",
              "      fill: #FFFFFF;\n",
              "    }\n",
              "  </style>\n",
              "\n",
              "      <script>\n",
              "        const buttonEl =\n",
              "          document.querySelector('#df-d79ac0f1-9893-4a57-be11-295fcc7cd66c button.colab-df-convert');\n",
              "        buttonEl.style.display =\n",
              "          google.colab.kernel.accessAllowed ? 'block' : 'none';\n",
              "\n",
              "        async function convertToInteractive(key) {\n",
              "          const element = document.querySelector('#df-d79ac0f1-9893-4a57-be11-295fcc7cd66c');\n",
              "          const dataTable =\n",
              "            await google.colab.kernel.invokeFunction('convertToInteractive',\n",
              "                                                     [key], {});\n",
              "          if (!dataTable) return;\n",
              "\n",
              "          const docLinkHtml = 'Like what you see? Visit the ' +\n",
              "            '<a target=\"_blank\" href=https://colab.research.google.com/notebooks/data_table.ipynb>data table notebook</a>'\n",
              "            + ' to learn more about interactive tables.';\n",
              "          element.innerHTML = '';\n",
              "          dataTable['output_type'] = 'display_data';\n",
              "          await google.colab.output.renderOutput(dataTable, element);\n",
              "          const docLink = document.createElement('div');\n",
              "          docLink.innerHTML = docLinkHtml;\n",
              "          element.appendChild(docLink);\n",
              "        }\n",
              "      </script>\n",
              "    </div>\n",
              "  </div>\n",
              "  "
            ]
          },
          "metadata": {},
          "execution_count": 132
        }
      ]
    },
    {
      "cell_type": "markdown",
      "source": [
        "**Using statsmodels**"
      ],
      "metadata": {
        "id": "mjwZ8rHu23ti"
      }
    },
    {
      "cell_type": "code",
      "source": [
        "lm_5 = ols('delta_bmi ~ Age + C(Diet) + C(Gender)', data = df).fit()\n",
        "lm_6 = ols('delta_bmi ~ Age + C(Diet) * C(Gender)', data = df).fit()"
      ],
      "metadata": {
        "id": "ptqWMDLt23H8"
      },
      "execution_count": 105,
      "outputs": []
    },
    {
      "cell_type": "code",
      "source": [
        "anova_lm(lm_5, lm_6)"
      ],
      "metadata": {
        "colab": {
          "base_uri": "https://localhost:8080/",
          "height": 112
        },
        "id": "n9ed6QMW3JA9",
        "outputId": "1312d25b-5fb9-497c-c5b4-300334978f10"
      },
      "execution_count": 106,
      "outputs": [
        {
          "output_type": "execute_result",
          "data": {
            "text/plain": [
              "   df_resid        ssr  df_diff   ss_diff         F   Pr(>F)\n",
              "0      85.0  55.381135      0.0       NaN       NaN      NaN\n",
              "1      83.0  50.435584      2.0  4.945551  4.069357  0.02061"
            ],
            "text/html": [
              "\n",
              "  <div id=\"df-e0447915-db92-47bf-b772-962751411e84\">\n",
              "    <div class=\"colab-df-container\">\n",
              "      <div>\n",
              "<style scoped>\n",
              "    .dataframe tbody tr th:only-of-type {\n",
              "        vertical-align: middle;\n",
              "    }\n",
              "\n",
              "    .dataframe tbody tr th {\n",
              "        vertical-align: top;\n",
              "    }\n",
              "\n",
              "    .dataframe thead th {\n",
              "        text-align: right;\n",
              "    }\n",
              "</style>\n",
              "<table border=\"1\" class=\"dataframe\">\n",
              "  <thead>\n",
              "    <tr style=\"text-align: right;\">\n",
              "      <th></th>\n",
              "      <th>df_resid</th>\n",
              "      <th>ssr</th>\n",
              "      <th>df_diff</th>\n",
              "      <th>ss_diff</th>\n",
              "      <th>F</th>\n",
              "      <th>Pr(&gt;F)</th>\n",
              "    </tr>\n",
              "  </thead>\n",
              "  <tbody>\n",
              "    <tr>\n",
              "      <th>0</th>\n",
              "      <td>85.0</td>\n",
              "      <td>55.381135</td>\n",
              "      <td>0.0</td>\n",
              "      <td>NaN</td>\n",
              "      <td>NaN</td>\n",
              "      <td>NaN</td>\n",
              "    </tr>\n",
              "    <tr>\n",
              "      <th>1</th>\n",
              "      <td>83.0</td>\n",
              "      <td>50.435584</td>\n",
              "      <td>2.0</td>\n",
              "      <td>4.945551</td>\n",
              "      <td>4.069357</td>\n",
              "      <td>0.02061</td>\n",
              "    </tr>\n",
              "  </tbody>\n",
              "</table>\n",
              "</div>\n",
              "      <button class=\"colab-df-convert\" onclick=\"convertToInteractive('df-e0447915-db92-47bf-b772-962751411e84')\"\n",
              "              title=\"Convert this dataframe to an interactive table.\"\n",
              "              style=\"display:none;\">\n",
              "        \n",
              "  <svg xmlns=\"http://www.w3.org/2000/svg\" height=\"24px\"viewBox=\"0 0 24 24\"\n",
              "       width=\"24px\">\n",
              "    <path d=\"M0 0h24v24H0V0z\" fill=\"none\"/>\n",
              "    <path d=\"M18.56 5.44l.94 2.06.94-2.06 2.06-.94-2.06-.94-.94-2.06-.94 2.06-2.06.94zm-11 1L8.5 8.5l.94-2.06 2.06-.94-2.06-.94L8.5 2.5l-.94 2.06-2.06.94zm10 10l.94 2.06.94-2.06 2.06-.94-2.06-.94-.94-2.06-.94 2.06-2.06.94z\"/><path d=\"M17.41 7.96l-1.37-1.37c-.4-.4-.92-.59-1.43-.59-.52 0-1.04.2-1.43.59L10.3 9.45l-7.72 7.72c-.78.78-.78 2.05 0 2.83L4 21.41c.39.39.9.59 1.41.59.51 0 1.02-.2 1.41-.59l7.78-7.78 2.81-2.81c.8-.78.8-2.07 0-2.86zM5.41 20L4 18.59l7.72-7.72 1.47 1.35L5.41 20z\"/>\n",
              "  </svg>\n",
              "      </button>\n",
              "      \n",
              "  <style>\n",
              "    .colab-df-container {\n",
              "      display:flex;\n",
              "      flex-wrap:wrap;\n",
              "      gap: 12px;\n",
              "    }\n",
              "\n",
              "    .colab-df-convert {\n",
              "      background-color: #E8F0FE;\n",
              "      border: none;\n",
              "      border-radius: 50%;\n",
              "      cursor: pointer;\n",
              "      display: none;\n",
              "      fill: #1967D2;\n",
              "      height: 32px;\n",
              "      padding: 0 0 0 0;\n",
              "      width: 32px;\n",
              "    }\n",
              "\n",
              "    .colab-df-convert:hover {\n",
              "      background-color: #E2EBFA;\n",
              "      box-shadow: 0px 1px 2px rgba(60, 64, 67, 0.3), 0px 1px 3px 1px rgba(60, 64, 67, 0.15);\n",
              "      fill: #174EA6;\n",
              "    }\n",
              "\n",
              "    [theme=dark] .colab-df-convert {\n",
              "      background-color: #3B4455;\n",
              "      fill: #D2E3FC;\n",
              "    }\n",
              "\n",
              "    [theme=dark] .colab-df-convert:hover {\n",
              "      background-color: #434B5C;\n",
              "      box-shadow: 0px 1px 3px 1px rgba(0, 0, 0, 0.15);\n",
              "      filter: drop-shadow(0px 1px 2px rgba(0, 0, 0, 0.3));\n",
              "      fill: #FFFFFF;\n",
              "    }\n",
              "  </style>\n",
              "\n",
              "      <script>\n",
              "        const buttonEl =\n",
              "          document.querySelector('#df-e0447915-db92-47bf-b772-962751411e84 button.colab-df-convert');\n",
              "        buttonEl.style.display =\n",
              "          google.colab.kernel.accessAllowed ? 'block' : 'none';\n",
              "\n",
              "        async function convertToInteractive(key) {\n",
              "          const element = document.querySelector('#df-e0447915-db92-47bf-b772-962751411e84');\n",
              "          const dataTable =\n",
              "            await google.colab.kernel.invokeFunction('convertToInteractive',\n",
              "                                                     [key], {});\n",
              "          if (!dataTable) return;\n",
              "\n",
              "          const docLinkHtml = 'Like what you see? Visit the ' +\n",
              "            '<a target=\"_blank\" href=https://colab.research.google.com/notebooks/data_table.ipynb>data table notebook</a>'\n",
              "            + ' to learn more about interactive tables.';\n",
              "          element.innerHTML = '';\n",
              "          dataTable['output_type'] = 'display_data';\n",
              "          await google.colab.output.renderOutput(dataTable, element);\n",
              "          const docLink = document.createElement('div');\n",
              "          docLink.innerHTML = docLinkHtml;\n",
              "          element.appendChild(docLink);\n",
              "        }\n",
              "      </script>\n",
              "    </div>\n",
              "  </div>\n",
              "  "
            ]
          },
          "metadata": {},
          "execution_count": 106
        }
      ]
    },
    {
      "cell_type": "markdown",
      "source": [
        "### **Conclusions**\n",
        "\n",
        "$P(F > 4.069) = 0.02061 < 0.05$\n",
        "\n",
        "There are significant interactions between type of diet and gender."
      ],
      "metadata": {
        "id": "JwmwAoih80nG"
      }
    },
    {
      "cell_type": "code",
      "source": [],
      "metadata": {
        "id": "91U0JixN6EBW"
      },
      "execution_count": null,
      "outputs": []
    }
  ]
}